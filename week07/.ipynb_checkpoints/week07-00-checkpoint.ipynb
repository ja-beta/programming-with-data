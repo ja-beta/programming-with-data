{
 "cells": [
  {
   "cell_type": "markdown",
   "id": "d07cfae4-e428-46b1-8ca8-ac8f1277216e",
   "metadata": {},
   "source": [
    "# Python data structures"
   ]
  },
  {
   "cell_type": "markdown",
   "id": "d92bae97-d914-4177-9c54-f6ad8ce43822",
   "metadata": {},
   "source": [
    "* list: available everywhere we have python; stores values in order; indexed by number; like an array\n",
    "* DataFrame: requires pandas library; stores values in a table; index by number, by column, etc... rows and columns have string indexes as well; like a spreadsheet\n",
    "\n",
    "There are more data structures in Python:"
   ]
  },
  {
   "cell_type": "markdown",
   "id": "9af95fa3-4c8c-4eae-aac5-06d3db54b48a",
   "metadata": {},
   "source": [
    "## dictionary\n",
    "\n",
    "javascript: \"object\" (Map); PHP \"associative array\"; C++ Map.\n",
    "\n",
    "Series of key->value pairs (sort of like a two-column spreasheet)\n",
    "\n",
    "Dictionaries are FAST! The computer sort of assigns each key a unique index, so if you want to look for a value, you send the request which goes through a \"hashing\" algorithm, and then the hashing value goes to the value. It's like compiling all the data beforehand and then every key has a place in memory that is easy to retrieve.\n",
    "For that reason, they potentially use more memory. So this is a tradeoff between memory and speed."
   ]
  },
  {
   "cell_type": "code",
   "execution_count": 5,
   "id": "42f417c6-da70-4786-9b30-0b64d07356a1",
   "metadata": {},
   "outputs": [],
   "source": [
    "presidents = {\n",
    "    \"Obama\" : \"Hawaii\",\n",
    "    \"Clinton\" : \"Arkansas\",\n",
    "    \"Biden\" : \"Pennsylvania\",\n",
    "    \"Van Buren\" : \"Pennsylvania\",\n",
    "    \"Biden\" : \"New York\"\n",
    "}"
   ]
  },
  {
   "cell_type": "code",
   "execution_count": 2,
   "id": "b4e6017b-eba6-441a-9da9-103da299fadc",
   "metadata": {},
   "outputs": [
    {
     "data": {
      "text/plain": [
       "{'Obama': 'Hawaii', 'Clinton': 'Arkansas', 'Biden': 'Pennsylvania'}"
      ]
     },
     "execution_count": 2,
     "metadata": {},
     "output_type": "execute_result"
    }
   ],
   "source": [
    "presidents"
   ]
  },
  {
   "cell_type": "code",
   "execution_count": 3,
   "id": "6810498a-645e-4675-a9a9-027982218c7f",
   "metadata": {},
   "outputs": [
    {
     "data": {
      "text/plain": [
       "dict"
      ]
     },
     "execution_count": 3,
     "metadata": {},
     "output_type": "execute_result"
    }
   ],
   "source": [
    "type(presidents)"
   ]
  },
  {
   "cell_type": "code",
   "execution_count": 4,
   "id": "8d78158b-f8fc-4470-8a36-bcc80f890d5c",
   "metadata": {},
   "outputs": [
    {
     "data": {
      "text/plain": [
       "'Hawaii'"
      ]
     },
     "execution_count": 4,
     "metadata": {},
     "output_type": "execute_result"
    }
   ],
   "source": [
    "presidents[\"Obama\"]"
   ]
  },
  {
   "cell_type": "code",
   "execution_count": 7,
   "id": "2c9bfbee-34e4-4a14-8ea3-2db5285bce93",
   "metadata": {},
   "outputs": [
    {
     "data": {
      "text/plain": [
       "'New York'"
      ]
     },
     "execution_count": 7,
     "metadata": {},
     "output_type": "execute_result"
    }
   ],
   "source": [
    "presidents[\"Biden\"] #Can't have two keys by the same name, the last one would override the first"
   ]
  },
  {
   "cell_type": "code",
   "execution_count": 8,
   "id": "2c6132d5-cc4d-4391-a791-1349b8d6921b",
   "metadata": {},
   "outputs": [
    {
     "data": {
      "text/plain": [
       "4"
      ]
     },
     "execution_count": 8,
     "metadata": {},
     "output_type": "execute_result"
    }
   ],
   "source": [
    "len(presidents)"
   ]
  },
  {
   "cell_type": "code",
   "execution_count": 9,
   "id": "a708e8bd-48cf-41ff-8c22-eaa78997a826",
   "metadata": {},
   "outputs": [
    {
     "data": {
      "text/plain": [
       "dict_keys(['Obama', 'Clinton', 'Biden', 'Van Buren'])"
      ]
     },
     "execution_count": 9,
     "metadata": {},
     "output_type": "execute_result"
    }
   ],
   "source": [
    "presidents.keys()"
   ]
  },
  {
   "cell_type": "code",
   "execution_count": 10,
   "id": "5c2a6dee-c586-48a2-b569-b554235e3183",
   "metadata": {},
   "outputs": [
    {
     "data": {
      "text/plain": [
       "dict_values(['Hawaii', 'Arkansas', 'New York', 'Pennsylvania'])"
      ]
     },
     "execution_count": 10,
     "metadata": {},
     "output_type": "execute_result"
    }
   ],
   "source": [
    "presidents.values()"
   ]
  },
  {
   "cell_type": "code",
   "execution_count": 13,
   "id": "1a9f005b-2f80-4ae6-b4e4-003e5f68f371",
   "metadata": {},
   "outputs": [
    {
     "data": {
      "text/plain": [
       "True"
      ]
     },
     "execution_count": 13,
     "metadata": {},
     "output_type": "execute_result"
    }
   ],
   "source": [
    "\"Obama\" in presidents"
   ]
  },
  {
   "cell_type": "code",
   "execution_count": 14,
   "id": "f33b3e4d-7abb-4e86-97e0-ad1d12c9e9b3",
   "metadata": {},
   "outputs": [
    {
     "data": {
      "text/plain": [
       "False"
      ]
     },
     "execution_count": 14,
     "metadata": {},
     "output_type": "execute_result"
    }
   ],
   "source": [
    "\"Arkansas\" in presidents"
   ]
  },
  {
   "cell_type": "code",
   "execution_count": 15,
   "id": "8ede207e-42b2-42d6-8a97-c232839ccbca",
   "metadata": {},
   "outputs": [
    {
     "data": {
      "text/plain": [
       "True"
      ]
     },
     "execution_count": 15,
     "metadata": {},
     "output_type": "execute_result"
    }
   ],
   "source": [
    "\"Arkansas\" in presidents.values()"
   ]
  },
  {
   "cell_type": "code",
   "execution_count": 53,
   "id": "5c2f6a8a-66ce-4b34-ba88-08c03dcec692",
   "metadata": {},
   "outputs": [
    {
     "data": {
      "text/plain": [
       "dict_items([('Obama', 'Hawaii'), ('Clinton', 'Arkansas'), ('Biden', 'New York'), ('Van Buren', 'Pennsylvania')])"
      ]
     },
     "execution_count": 53,
     "metadata": {},
     "output_type": "execute_result"
    }
   ],
   "source": [
    "presidents.items() #returns a list of \"tuples\""
   ]
  },
  {
   "cell_type": "code",
   "execution_count": 19,
   "id": "9fdb84b9-e625-43e0-ba6a-bb0b36ab26d2",
   "metadata": {},
   "outputs": [
    {
     "data": {
      "text/plain": [
       "['president Obama was from Hawaii',\n",
       " 'president Clinton was from Arkansas',\n",
       " 'president Biden was from New York',\n",
       " 'president Van Buren was from Pennsylvania']"
      ]
     },
     "execution_count": 19,
     "metadata": {},
     "output_type": "execute_result"
    }
   ],
   "source": [
    "[\"president \" + k + \" was from \" + v for k, v in presidents.items()]"
   ]
  },
  {
   "cell_type": "markdown",
   "id": "e3cfdcca-5a11-4731-8a89-3214a22cc41d",
   "metadata": {},
   "source": [
    "## representing tabular data in python with dictionaries\n",
    "\n",
    "list of dictionaries. List of rows in a spreadsheet, dictionary: column + value for that row\n",
    "\n",
    "    name         state     population\n",
    "    New York     NY        9000000\n",
    "    Los Angeles  CA        4000000\n",
    "    Chicago      IL        3000000\n",
    "\n",
    "    [\n",
    "        {\"name\": \"New York\", \"state\": \"NY\", \"population\": 9000000},\n",
    "        {\"name\": \"Los Angeles\", \"state\": \"CA\", \"population\": 4000000},\n",
    "        {\"name\": \"Chicago\", \"state\": \"IL\", \"population\": 3000000},\n",
    "    ]"
   ]
  },
  {
   "cell_type": "code",
   "execution_count": 20,
   "id": "a8b774d3-a815-4c9d-a6a0-296db8300817",
   "metadata": {},
   "outputs": [],
   "source": [
    "cities =  [\n",
    "        {\"name\": \"New York\", \"state\": \"NY\", \"population\": 9000000},\n",
    "        {\"name\": \"Los Angeles\", \"state\": \"CA\", \"population\": 4000000},\n",
    "        {\"name\": \"Chicago\", \"state\": \"IL\", \"population\": 3000000},\n",
    "    ]"
   ]
  },
  {
   "cell_type": "code",
   "execution_count": 21,
   "id": "fe1a24aa-16d8-42de-b43e-d1cd4a6947ba",
   "metadata": {},
   "outputs": [
    {
     "data": {
      "text/plain": [
       "[{'name': 'New York', 'state': 'NY', 'population': 9000000},\n",
       " {'name': 'Los Angeles', 'state': 'CA', 'population': 4000000},\n",
       " {'name': 'Chicago', 'state': 'IL', 'population': 3000000}]"
      ]
     },
     "execution_count": 21,
     "metadata": {},
     "output_type": "execute_result"
    }
   ],
   "source": [
    "cities"
   ]
  },
  {
   "cell_type": "code",
   "execution_count": 22,
   "id": "e11ae636-48f3-4684-82b7-c26a2f9c39cd",
   "metadata": {},
   "outputs": [
    {
     "data": {
      "text/plain": [
       "list"
      ]
     },
     "execution_count": 22,
     "metadata": {},
     "output_type": "execute_result"
    }
   ],
   "source": [
    "type(cities)"
   ]
  },
  {
   "cell_type": "code",
   "execution_count": 23,
   "id": "f14fe0b1-f47b-4959-a125-384f981e9af8",
   "metadata": {},
   "outputs": [
    {
     "data": {
      "text/plain": [
       "dict"
      ]
     },
     "execution_count": 23,
     "metadata": {},
     "output_type": "execute_result"
    }
   ],
   "source": [
    "type(cities[0])"
   ]
  },
  {
   "cell_type": "code",
   "execution_count": 24,
   "id": "6ca7ac80-786e-4f44-92fc-eb486eae0158",
   "metadata": {},
   "outputs": [
    {
     "data": {
      "text/plain": [
       "{'name': 'Los Angeles', 'state': 'CA', 'population': 4000000}"
      ]
     },
     "execution_count": 24,
     "metadata": {},
     "output_type": "execute_result"
    }
   ],
   "source": [
    "cities[1]"
   ]
  },
  {
   "cell_type": "code",
   "execution_count": 27,
   "id": "aaf34902-cbb1-4006-a75d-dc57598204a8",
   "metadata": {},
   "outputs": [
    {
     "data": {
      "text/plain": [
       "9000000"
      ]
     },
     "execution_count": 27,
     "metadata": {},
     "output_type": "execute_result"
    }
   ],
   "source": [
    "cities[0]['population']"
   ]
  },
  {
   "cell_type": "code",
   "execution_count": 29,
   "id": "6aa70bc8-87c1-470c-83ce-d5c856f3340c",
   "metadata": {},
   "outputs": [
    {
     "data": {
      "text/plain": [
       "16000000"
      ]
     },
     "execution_count": 29,
     "metadata": {},
     "output_type": "execute_result"
    }
   ],
   "source": [
    "sum([item['population'] for item in cities])"
   ]
  },
  {
   "cell_type": "code",
   "execution_count": 30,
   "id": "bed9e247-9097-4579-a920-195780a35800",
   "metadata": {},
   "outputs": [],
   "source": [
    "# it's like we can sort of implement our mini Pandas by just using python data structures. \n",
    "# If we power a small computer that doesn't have enough memory for pandas this can come handy!"
   ]
  },
  {
   "cell_type": "code",
   "execution_count": 31,
   "id": "fa743644-b749-458b-9310-bc069dc41e75",
   "metadata": {},
   "outputs": [
    {
     "data": {
      "text/html": [
       "<div>\n",
       "<style scoped>\n",
       "    .dataframe tbody tr th:only-of-type {\n",
       "        vertical-align: middle;\n",
       "    }\n",
       "\n",
       "    .dataframe tbody tr th {\n",
       "        vertical-align: top;\n",
       "    }\n",
       "\n",
       "    .dataframe thead th {\n",
       "        text-align: right;\n",
       "    }\n",
       "</style>\n",
       "<table border=\"1\" class=\"dataframe\">\n",
       "  <thead>\n",
       "    <tr style=\"text-align: right;\">\n",
       "      <th></th>\n",
       "      <th>name</th>\n",
       "      <th>state</th>\n",
       "      <th>population</th>\n",
       "    </tr>\n",
       "  </thead>\n",
       "  <tbody>\n",
       "    <tr>\n",
       "      <th>0</th>\n",
       "      <td>New York</td>\n",
       "      <td>NY</td>\n",
       "      <td>9000000</td>\n",
       "    </tr>\n",
       "    <tr>\n",
       "      <th>1</th>\n",
       "      <td>Los Angeles</td>\n",
       "      <td>CA</td>\n",
       "      <td>4000000</td>\n",
       "    </tr>\n",
       "    <tr>\n",
       "      <th>2</th>\n",
       "      <td>Chicago</td>\n",
       "      <td>IL</td>\n",
       "      <td>3000000</td>\n",
       "    </tr>\n",
       "  </tbody>\n",
       "</table>\n",
       "</div>"
      ],
      "text/plain": [
       "          name state  population\n",
       "0     New York    NY     9000000\n",
       "1  Los Angeles    CA     4000000\n",
       "2      Chicago    IL     3000000"
      ]
     },
     "execution_count": 31,
     "metadata": {},
     "output_type": "execute_result"
    }
   ],
   "source": [
    "#but could also:\n",
    "import pandas as pd\n",
    "pd.DataFrame(cities)"
   ]
  },
  {
   "cell_type": "markdown",
   "id": "5483958a-5d4c-4fd4-be44-d3646cd72686",
   "metadata": {},
   "source": [
    "## Set"
   ]
  },
  {
   "cell_type": "code",
   "execution_count": 32,
   "id": "1105d221-af42-4507-b64d-90939442c14b",
   "metadata": {},
   "outputs": [],
   "source": [
    "fruits = set()"
   ]
  },
  {
   "cell_type": "code",
   "execution_count": 34,
   "id": "99dcf2b8-f143-4fec-ba00-25e8532f162f",
   "metadata": {},
   "outputs": [],
   "source": [
    "fruits.add(\"apple\")\n",
    "fruits.add(\"orange\")\n",
    "fruits.add(\"banana\")"
   ]
  },
  {
   "cell_type": "code",
   "execution_count": 35,
   "id": "0f89199c-c2f7-427c-9b81-39f64f598a63",
   "metadata": {},
   "outputs": [
    {
     "data": {
      "text/plain": [
       "{'apple', 'banana', 'orange'}"
      ]
     },
     "execution_count": 35,
     "metadata": {},
     "output_type": "execute_result"
    }
   ],
   "source": [
    "fruits"
   ]
  },
  {
   "cell_type": "code",
   "execution_count": 36,
   "id": "bd9577b3-b217-4305-85af-ff3e21924677",
   "metadata": {},
   "outputs": [],
   "source": [
    "fruits.add(\"apple\")"
   ]
  },
  {
   "cell_type": "code",
   "execution_count": 37,
   "id": "f4b3b813-f9ec-405f-ae78-ff0dc8de1374",
   "metadata": {},
   "outputs": [
    {
     "data": {
      "text/plain": [
       "{'apple', 'banana', 'orange'}"
      ]
     },
     "execution_count": 37,
     "metadata": {},
     "output_type": "execute_result"
    }
   ],
   "source": [
    "fruits"
   ]
  },
  {
   "cell_type": "code",
   "execution_count": 40,
   "id": "5fd3383b-a2e7-4488-81e2-e6477e6604bb",
   "metadata": {},
   "outputs": [],
   "source": [
    "# you can't add the same thing twice!\n",
    "# also cannot get an item by index..."
   ]
  },
  {
   "cell_type": "code",
   "execution_count": 41,
   "id": "f4d1b135-27ec-4141-b645-15d250f5fe51",
   "metadata": {},
   "outputs": [
    {
     "data": {
      "text/plain": [
       "True"
      ]
     },
     "execution_count": 41,
     "metadata": {},
     "output_type": "execute_result"
    }
   ],
   "source": [
    "\"apple\" in fruits"
   ]
  },
  {
   "cell_type": "code",
   "execution_count": 42,
   "id": "8f56f752-19e8-4563-9921-ab18f641f04e",
   "metadata": {},
   "outputs": [
    {
     "data": {
      "text/plain": [
       "False"
      ]
     },
     "execution_count": 42,
     "metadata": {},
     "output_type": "execute_result"
    }
   ],
   "source": [
    "\"arugula\" in fruits"
   ]
  },
  {
   "cell_type": "code",
   "execution_count": 46,
   "id": "b722a469-ef3f-4bd5-94d7-40adee80de52",
   "metadata": {},
   "outputs": [],
   "source": [
    "#the main thing sets are good for is removing duplicates in lists."
   ]
  },
  {
   "cell_type": "code",
   "execution_count": 44,
   "id": "920181ec-92fa-4be7-8d4d-a47b7ff7cd9d",
   "metadata": {},
   "outputs": [],
   "source": [
    "fruit_salad = [\"apple\", \"orange\", \"banana\", \"apple\", \"kiwi\", \"orange\"]"
   ]
  },
  {
   "cell_type": "code",
   "execution_count": 45,
   "id": "f992408c-1468-482f-81be-987bdd7f9041",
   "metadata": {},
   "outputs": [
    {
     "data": {
      "text/plain": [
       "['banana', 'orange', 'apple', 'kiwi']"
      ]
     },
     "execution_count": 45,
     "metadata": {},
     "output_type": "execute_result"
    }
   ],
   "source": [
    "list(set(fruit_salad))"
   ]
  },
  {
   "cell_type": "code",
   "execution_count": 47,
   "id": "1beed866-5e2d-440d-9699-3b0cd81777d7",
   "metadata": {},
   "outputs": [],
   "source": [
    "#sets also use the same hashing thing as dictionary - checking to see if an item is in a set or list is going to be faster in a set."
   ]
  },
  {
   "cell_type": "markdown",
   "id": "2841ad90-7c30-418f-8000-5ab96543eabf",
   "metadata": {},
   "source": [
    "## tuples\n",
    "single, double, triple, quadruple (tuple in like n-ple).\n",
    "\n",
    "They are almost exactly the same as lists, but you can't change it - it's immutable! - can't be changed after it's created. Basically read only.\n",
    "\n",
    "It's a tradeoff in efficiency again. "
   ]
  },
  {
   "cell_type": "code",
   "execution_count": 48,
   "id": "61496714-694c-45cc-92d3-403b0e62a8e8",
   "metadata": {},
   "outputs": [],
   "source": [
    "t = (1, 2, 3, 4, 5)"
   ]
  },
  {
   "cell_type": "code",
   "execution_count": 49,
   "id": "ffe9d642-0f51-4564-9547-529ea3ef1c00",
   "metadata": {},
   "outputs": [
    {
     "data": {
      "text/plain": [
       "tuple"
      ]
     },
     "execution_count": 49,
     "metadata": {},
     "output_type": "execute_result"
    }
   ],
   "source": [
    "type(t)"
   ]
  },
  {
   "cell_type": "code",
   "execution_count": 51,
   "id": "9ef89f3a-9553-4aa5-a7e9-0c2a71729686",
   "metadata": {},
   "outputs": [
    {
     "data": {
      "text/plain": [
       "5"
      ]
     },
     "execution_count": 51,
     "metadata": {},
     "output_type": "execute_result"
    }
   ],
   "source": [
    "t[4]"
   ]
  },
  {
   "cell_type": "code",
   "execution_count": 52,
   "id": "b70cd157-786a-4a6e-a3eb-8ff7fe5cdacd",
   "metadata": {},
   "outputs": [
    {
     "data": {
      "text/plain": [
       "False"
      ]
     },
     "execution_count": 52,
     "metadata": {},
     "output_type": "execute_result"
    }
   ],
   "source": [
    "\"cheese\" in t"
   ]
  }
 ],
 "metadata": {
  "kernelspec": {
   "display_name": "Python 3 (ipykernel)",
   "language": "python",
   "name": "python3"
  },
  "language_info": {
   "codemirror_mode": {
    "name": "ipython",
    "version": 3
   },
   "file_extension": ".py",
   "mimetype": "text/x-python",
   "name": "python",
   "nbconvert_exporter": "python",
   "pygments_lexer": "ipython3",
   "version": "3.12.3"
  }
 },
 "nbformat": 4,
 "nbformat_minor": 5
}
