{
 "cells": [
  {
   "cell_type": "markdown",
   "id": "7fdd2a5d-c55d-4694-99bc-0c6025d85a39",
   "metadata": {},
   "source": [
    "# pandas!\n",
    "Is a data analysis library for python. You can give it tabular data (spredsheets) and it has a lot of methods and functions for dealing with the data!\n",
    "(Look through the introductory notes in Allison's github)\n",
    "We have to download and install it. But it is included in Anaconda if we are using that.\n",
    "It will remain installed on our device!\n",
    "The following command installs it:"
   ]
  },
  {
   "cell_type": "code",
   "execution_count": 2,
   "id": "a755ebea-19da-4f2a-896a-0ffaff32b928",
   "metadata": {},
   "outputs": [
    {
     "name": "stdout",
     "output_type": "stream",
     "text": [
      "Requirement already satisfied: pandas in /Users/jasminenackash/miniconda3/lib/python3.12/site-packages (2.2.3)\n",
      "Requirement already satisfied: numpy>=1.26.0 in /Users/jasminenackash/miniconda3/lib/python3.12/site-packages (from pandas) (2.1.1)\n",
      "Requirement already satisfied: python-dateutil>=2.8.2 in /Users/jasminenackash/miniconda3/lib/python3.12/site-packages (from pandas) (2.9.0.post0)\n",
      "Requirement already satisfied: pytz>=2020.1 in /Users/jasminenackash/miniconda3/lib/python3.12/site-packages (from pandas) (2024.2)\n",
      "Requirement already satisfied: tzdata>=2022.7 in /Users/jasminenackash/miniconda3/lib/python3.12/site-packages (from pandas) (2024.2)\n",
      "Requirement already satisfied: six>=1.5 in /Users/jasminenackash/miniconda3/lib/python3.12/site-packages (from python-dateutil>=2.8.2->pandas) (1.16.0)\n"
     ]
    }
   ],
   "source": [
    "import sys\n",
    "!{sys.executable} -m pip install pandas"
   ]
  },
  {
   "cell_type": "markdown",
   "id": "d9a3875b-cea9-4292-be92-1b629badcf12",
   "metadata": {},
   "source": [
    "We also need to install a second library - matplotlib - used for data visualization with python"
   ]
  },
  {
   "cell_type": "code",
   "execution_count": 4,
   "id": "31ece4f1-839d-450a-a311-89c2b9e21c90",
   "metadata": {
    "scrolled": true
   },
   "outputs": [
    {
     "name": "stdout",
     "output_type": "stream",
     "text": [
      "Requirement already satisfied: matplotlib in /Users/jasminenackash/miniconda3/lib/python3.12/site-packages (3.9.2)\n",
      "Requirement already satisfied: contourpy>=1.0.1 in /Users/jasminenackash/miniconda3/lib/python3.12/site-packages (from matplotlib) (1.3.0)\n",
      "Requirement already satisfied: cycler>=0.10 in /Users/jasminenackash/miniconda3/lib/python3.12/site-packages (from matplotlib) (0.12.1)\n",
      "Requirement already satisfied: fonttools>=4.22.0 in /Users/jasminenackash/miniconda3/lib/python3.12/site-packages (from matplotlib) (4.54.1)\n",
      "Requirement already satisfied: kiwisolver>=1.3.1 in /Users/jasminenackash/miniconda3/lib/python3.12/site-packages (from matplotlib) (1.4.7)\n",
      "Requirement already satisfied: numpy>=1.23 in /Users/jasminenackash/miniconda3/lib/python3.12/site-packages (from matplotlib) (2.1.1)\n",
      "Requirement already satisfied: packaging>=20.0 in /Users/jasminenackash/miniconda3/lib/python3.12/site-packages (from matplotlib) (23.2)\n",
      "Requirement already satisfied: pillow>=8 in /Users/jasminenackash/miniconda3/lib/python3.12/site-packages (from matplotlib) (10.4.0)\n",
      "Requirement already satisfied: pyparsing>=2.3.1 in /Users/jasminenackash/miniconda3/lib/python3.12/site-packages (from matplotlib) (3.1.4)\n",
      "Requirement already satisfied: python-dateutil>=2.7 in /Users/jasminenackash/miniconda3/lib/python3.12/site-packages (from matplotlib) (2.9.0.post0)\n",
      "Requirement already satisfied: six>=1.5 in /Users/jasminenackash/miniconda3/lib/python3.12/site-packages (from python-dateutil>=2.7->matplotlib) (1.16.0)\n"
     ]
    }
   ],
   "source": [
    "import sys\n",
    "!{sys.executable} -m pip install matplotlib"
   ]
  },
  {
   "cell_type": "code",
   "execution_count": 11,
   "id": "5a57790e-1905-4644-9f10-a25c72e1bdab",
   "metadata": {},
   "outputs": [],
   "source": [
    "# the % sign says = when we draw a graph, show it in the notebook"
   ]
  },
  {
   "cell_type": "code",
   "execution_count": 10,
   "id": "41ee539f-e542-4f68-8b26-0ff12968d4ca",
   "metadata": {},
   "outputs": [],
   "source": [
    "%matplotlib inline \n",
    "import pandas as pd\n",
    "import matplotlib.pyplot as plt"
   ]
  },
  {
   "cell_type": "markdown",
   "id": "ec995f75-f7f6-41d7-a21f-242ef9df634d",
   "metadata": {},
   "source": [
    "# the series"
   ]
  },
  {
   "cell_type": "code",
   "execution_count": 12,
   "id": "c0626256-7892-437a-8dbf-0dbb96c0a1a6",
   "metadata": {},
   "outputs": [],
   "source": [
    "s = pd.Series([5, 5, 5, 10, 10, 12, 15, 15, 23, 27, 30])"
   ]
  },
  {
   "cell_type": "code",
   "execution_count": 13,
   "id": "ccec47a0-4d02-4a76-ac83-47bae0a35a1c",
   "metadata": {},
   "outputs": [
    {
     "data": {
      "text/plain": [
       "pandas.core.series.Series"
      ]
     },
     "execution_count": 13,
     "metadata": {},
     "output_type": "execute_result"
    }
   ],
   "source": [
    "type(s)"
   ]
  },
  {
   "cell_type": "code",
   "execution_count": 14,
   "id": "c7503795-d3fe-4db8-bdf9-e0e474937caa",
   "metadata": {},
   "outputs": [
    {
     "data": {
      "text/plain": [
       "0      5\n",
       "1      5\n",
       "2      5\n",
       "3     10\n",
       "4     10\n",
       "5     12\n",
       "6     15\n",
       "7     15\n",
       "8     23\n",
       "9     27\n",
       "10    30\n",
       "dtype: int64"
      ]
     },
     "execution_count": 14,
     "metadata": {},
     "output_type": "execute_result"
    }
   ],
   "source": [
    "s"
   ]
  },
  {
   "cell_type": "code",
   "execution_count": 16,
   "id": "287ee337-10ed-41d0-b441-21eb5a3a317b",
   "metadata": {},
   "outputs": [
    {
     "data": {
      "text/plain": [
       "0     10\n",
       "1     10\n",
       "2     10\n",
       "3     20\n",
       "4     20\n",
       "5     24\n",
       "6     30\n",
       "7     30\n",
       "8     46\n",
       "9     54\n",
       "10    60\n",
       "dtype: int64"
      ]
     },
     "execution_count": 16,
     "metadata": {},
     "output_type": "execute_result"
    }
   ],
   "source": [
    "s * 2"
   ]
  },
  {
   "cell_type": "code",
   "execution_count": 18,
   "id": "72ef7e8d-f8c5-4498-8818-c0aeff4e9e2b",
   "metadata": {},
   "outputs": [
    {
     "data": {
      "text/plain": [
       "0     58\n",
       "1     58\n",
       "2     58\n",
       "3     63\n",
       "4     63\n",
       "5     65\n",
       "6     68\n",
       "7     68\n",
       "8     76\n",
       "9     80\n",
       "10    83\n",
       "dtype: int64"
      ]
     },
     "execution_count": 18,
     "metadata": {},
     "output_type": "execute_result"
    }
   ],
   "source": [
    "s + 53"
   ]
  },
  {
   "cell_type": "code",
   "execution_count": 19,
   "id": "d25c6f30-b917-4b67-aa06-aa163ebc6b10",
   "metadata": {},
   "outputs": [
    {
     "data": {
      "text/plain": [
       "np.int64(5)"
      ]
     },
     "execution_count": 19,
     "metadata": {},
     "output_type": "execute_result"
    }
   ],
   "source": [
    "s.min()"
   ]
  },
  {
   "cell_type": "code",
   "execution_count": 20,
   "id": "feffec12-fb48-4911-ad52-ea5dbf9027d6",
   "metadata": {},
   "outputs": [
    {
     "data": {
      "text/plain": [
       "np.int64(30)"
      ]
     },
     "execution_count": 20,
     "metadata": {},
     "output_type": "execute_result"
    }
   ],
   "source": [
    "s.max()"
   ]
  },
  {
   "cell_type": "code",
   "execution_count": 21,
   "id": "dab091c1-d57b-486c-800a-ecdafae1b0fd",
   "metadata": {},
   "outputs": [
    {
     "data": {
      "text/plain": [
       "np.float64(14.272727272727273)"
      ]
     },
     "execution_count": 21,
     "metadata": {},
     "output_type": "execute_result"
    }
   ],
   "source": [
    "s.mean()"
   ]
  },
  {
   "cell_type": "code",
   "execution_count": 23,
   "id": "74e5bbcf-327c-4fc1-8d6d-ffe93f476293",
   "metadata": {},
   "outputs": [
    {
     "data": {
      "text/plain": [
       "np.float64(12.0)"
      ]
     },
     "execution_count": 23,
     "metadata": {},
     "output_type": "execute_result"
    }
   ],
   "source": [
    "s.median() #exactly half way when sorted from smallest to biggest"
   ]
  },
  {
   "cell_type": "code",
   "execution_count": 26,
   "id": "20dbfa2b-6a10-43a3-a8c8-82249b9b3f7f",
   "metadata": {},
   "outputs": [
    {
     "data": {
      "text/plain": [
       "0    5\n",
       "dtype: int64"
      ]
     },
     "execution_count": 26,
     "metadata": {},
     "output_type": "execute_result"
    }
   ],
   "source": [
    "s.mode() # returning a series of the item(s) in the list the occurs most frequently"
   ]
  },
  {
   "cell_type": "code",
   "execution_count": 29,
   "id": "7c506c0c-a819-49ff-9f94-61bc78f3b894",
   "metadata": {},
   "outputs": [],
   "source": [
    "nums = pd.Series([\"one\", \"two\", \"three\"])"
   ]
  },
  {
   "cell_type": "code",
   "execution_count": 32,
   "id": "8c0dbfa5-0418-485f-b338-f0758cfcb15c",
   "metadata": {},
   "outputs": [],
   "source": [
    "sorted_nums = nums.sort_values()"
   ]
  },
  {
   "cell_type": "code",
   "execution_count": 33,
   "id": "588565b3-b06f-491c-982a-f678e934ba71",
   "metadata": {},
   "outputs": [
    {
     "data": {
      "text/plain": [
       "0      one\n",
       "1    three\n",
       "2      two\n",
       "dtype: object"
      ]
     },
     "execution_count": 33,
     "metadata": {},
     "output_type": "execute_result"
    }
   ],
   "source": [
    "pd.Series(sorted_nums.values)"
   ]
  },
  {
   "cell_type": "code",
   "execution_count": 34,
   "id": "dc6a6976-2998-45b6-82e0-e7713c1484ef",
   "metadata": {},
   "outputs": [
    {
     "data": {
      "text/plain": [
       "np.float64(8.866689450870703)"
      ]
     },
     "execution_count": 34,
     "metadata": {},
     "output_type": "execute_result"
    }
   ],
   "source": [
    "s.std() #standard deviation"
   ]
  },
  {
   "cell_type": "code",
   "execution_count": 35,
   "id": "c61b58e5-7813-48f9-a42b-e23cf840b0cf",
   "metadata": {},
   "outputs": [
    {
     "data": {
      "text/plain": [
       "np.float64(0.8755950357709131)"
      ]
     },
     "execution_count": 35,
     "metadata": {},
     "output_type": "execute_result"
    }
   ],
   "source": [
    "pd.Series([4, 4, 4, 5, 5, 5, 6, 6, 6, 6]).std()"
   ]
  },
  {
   "cell_type": "code",
   "execution_count": 36,
   "id": "c94a7424-43a5-4123-9f6f-d2158fb72d35",
   "metadata": {},
   "outputs": [
    {
     "data": {
      "text/plain": [
       "np.float64(29.700000000000003)"
      ]
     },
     "execution_count": 36,
     "metadata": {},
     "output_type": "execute_result"
    }
   ],
   "source": [
    "s.quantile(0.99) #99% of the values are less than this"
   ]
  },
  {
   "cell_type": "code",
   "execution_count": 37,
   "id": "15e399a6-835c-459f-8517-d0817029f29a",
   "metadata": {},
   "outputs": [
    {
     "data": {
      "text/plain": [
       "np.float64(7.5)"
      ]
     },
     "execution_count": 37,
     "metadata": {},
     "output_type": "execute_result"
    }
   ],
   "source": [
    "s.quantile(0.25)"
   ]
  },
  {
   "cell_type": "code",
   "execution_count": 38,
   "id": "cd699386-3b38-4188-9038-a7cadd53950e",
   "metadata": {},
   "outputs": [
    {
     "data": {
      "text/plain": [
       "np.float64(19.0)"
      ]
     },
     "execution_count": 38,
     "metadata": {},
     "output_type": "execute_result"
    }
   ],
   "source": [
    "s.quantile(0.75)"
   ]
  },
  {
   "cell_type": "code",
   "execution_count": 40,
   "id": "b17626bf-80da-4e50-a196-a68ec5350b10",
   "metadata": {},
   "outputs": [
    {
     "data": {
      "text/plain": [
       "count    11.000000\n",
       "mean     14.272727\n",
       "std       8.866689\n",
       "min       5.000000\n",
       "25%       7.500000\n",
       "50%      12.000000\n",
       "75%      19.000000\n",
       "max      30.000000\n",
       "dtype: float64"
      ]
     },
     "execution_count": 40,
     "metadata": {},
     "output_type": "execute_result"
    }
   ],
   "source": [
    "s.describe() #doing some basic analysis for us"
   ]
  },
  {
   "cell_type": "code",
   "execution_count": 41,
   "id": "657289a8-3e26-4470-944f-b3787a515538",
   "metadata": {},
   "outputs": [
    {
     "data": {
      "text/plain": [
       "<Axes: >"
      ]
     },
     "execution_count": 41,
     "metadata": {},
     "output_type": "execute_result"
    },
    {
     "data": {
      "image/png": "[encoded data removed]",
      "text/plain": [
       "<Figure size 640x480 with 1 Axes>"
      ]
     },
     "metadata": {},
     "output_type": "display_data"
    }
   ],
   "source": [
    "s.plot()"
   ]
  },
  {
   "cell_type": "code",
   "execution_count": 43,
   "id": "5c0e5751-eb27-4bee-9843-5081a593aba7",
   "metadata": {},
   "outputs": [
    {
     "data": {
      "text/plain": [
       "<Axes: >"
      ]
     },
     "execution_count": 43,
     "metadata": {},
     "output_type": "execute_result"
    },
    {
     "data": {
      "image/png": "[encoded data removed]",
      "text/plain": [
       "<Figure size 640x480 with 1 Axes>"
      ]
     },
     "metadata": {},
     "output_type": "display_data"
    }
   ],
   "source": [
    "s.plot(kind=\"pie\")"
   ]
  },
  {
   "cell_type": "markdown",
   "id": "a394d94e-8a23-4180-81d9-e12a0a3d6748",
   "metadata": {},
   "source": [
    "# labels / indices don't have to be integers!"
   ]
  },
  {
   "cell_type": "code",
   "execution_count": 44,
   "id": "2bfa3f84-e88c-47db-86a3-9ed1ca0a580d",
   "metadata": {},
   "outputs": [],
   "source": [
    "planet_moons = pd.Series(\n",
    "    [ 0, 0, 1, 2, 95, 146, 27, 14 ],\n",
    "    [\"Mercury\", \"Venus\", \"Earth\", \"Mars\", \"Jupiter\", \"Saturn\", \"Uranus\", \"Neptune\"])"
   ]
  },
  {
   "cell_type": "code",
   "execution_count": 45,
   "id": "0e44265e-5c23-44b9-aefe-8c6b64e087d5",
   "metadata": {},
   "outputs": [
    {
     "data": {
      "text/plain": [
       "Mercury      0\n",
       "Venus        0\n",
       "Earth        1\n",
       "Mars         2\n",
       "Jupiter     95\n",
       "Saturn     146\n",
       "Uranus      27\n",
       "Neptune     14\n",
       "dtype: int64"
      ]
     },
     "execution_count": 45,
     "metadata": {},
     "output_type": "execute_result"
    }
   ],
   "source": [
    "planet_moons"
   ]
  },
  {
   "cell_type": "code",
   "execution_count": 46,
   "id": "c1854d23-408c-4cd3-868f-c0fe6837b597",
   "metadata": {},
   "outputs": [
    {
     "data": {
      "text/plain": [
       "np.float64(35.625)"
      ]
     },
     "execution_count": 46,
     "metadata": {},
     "output_type": "execute_result"
    }
   ],
   "source": [
    "planet_moons.mean()"
   ]
  },
  {
   "cell_type": "code",
   "execution_count": 48,
   "id": "698b3156-3a82-4d60-ba8d-ba83c5f5aea6",
   "metadata": {},
   "outputs": [
    {
     "data": {
      "text/plain": [
       "<Axes: >"
      ]
     },
     "execution_count": 48,
     "metadata": {},
     "output_type": "execute_result"
    },
    {
     "data": {
      "image/png": "[encoded data removed]",
      "text/plain": [
       "<Figure size 640x480 with 1 Axes>"
      ]
     },
     "metadata": {},
     "output_type": "display_data"
    }
   ],
   "source": [
    "planet_moons.plot(kind=\"bar\")"
   ]
  },
  {
   "cell_type": "code",
   "execution_count": 49,
   "id": "dc0d8569-cb49-4d8a-b71e-896e8fdd323d",
   "metadata": {},
   "outputs": [
    {
     "data": {
      "text/plain": [
       "0      5\n",
       "1      5\n",
       "2      5\n",
       "3     10\n",
       "4     10\n",
       "5     12\n",
       "6     15\n",
       "7     15\n",
       "8     23\n",
       "9     27\n",
       "10    30\n",
       "dtype: int64"
      ]
     },
     "execution_count": 49,
     "metadata": {},
     "output_type": "execute_result"
    }
   ],
   "source": [
    "s"
   ]
  },
  {
   "cell_type": "code",
   "execution_count": 52,
   "id": "66cd73b2-d682-4568-acc7-f2ee517063dc",
   "metadata": {},
   "outputs": [
    {
     "data": {
      "text/plain": [
       "5     3\n",
       "10    2\n",
       "15    2\n",
       "12    1\n",
       "23    1\n",
       "27    1\n",
       "30    1\n",
       "Name: count, dtype: int64"
      ]
     },
     "execution_count": 52,
     "metadata": {},
     "output_type": "execute_result"
    }
   ],
   "source": [
    "s.value_counts() #returning a series where the index is the value and the value (second column) is how many times it occurs"
   ]
  },
  {
   "cell_type": "code",
   "execution_count": 55,
   "id": "3ee6925c-6046-4be3-ab3f-e5a00f97bbdd",
   "metadata": {},
   "outputs": [
    {
     "data": {
      "text/plain": [
       "<Axes: >"
      ]
     },
     "execution_count": 55,
     "metadata": {},
     "output_type": "execute_result"
    },
    {
     "data": {
      "image/png": "[encoded data removed]",
      "text/plain": [
       "<Figure size 640x480 with 1 Axes>"
      ]
     },
     "metadata": {},
     "output_type": "display_data"
    }
   ],
   "source": [
    "s.value_counts().plot(kind=\"bar\")"
   ]
  },
  {
   "cell_type": "markdown",
   "id": "23fc0fe3-ff14-4f82-b5fe-77cfea9f9317",
   "metadata": {},
   "source": [
    "# indexing with Series"
   ]
  },
  {
   "cell_type": "code",
   "execution_count": 56,
   "id": "73fab624-e118-40e4-967a-102902af47b0",
   "metadata": {},
   "outputs": [],
   "source": [
    "stuff = [10, 15, 20, 40]"
   ]
  },
  {
   "cell_type": "code",
   "execution_count": 57,
   "id": "e643b38f-bbb1-4656-9e36-ec15578ac408",
   "metadata": {},
   "outputs": [
    {
     "data": {
      "text/plain": [
       "10"
      ]
     },
     "execution_count": 57,
     "metadata": {},
     "output_type": "execute_result"
    }
   ],
   "source": [
    "stuff[0]"
   ]
  },
  {
   "cell_type": "code",
   "execution_count": 58,
   "id": "634b7671-5a21-41ea-93f2-e33807534cae",
   "metadata": {},
   "outputs": [
    {
     "data": {
      "text/plain": [
       "0      5\n",
       "1      5\n",
       "2      5\n",
       "3     10\n",
       "4     10\n",
       "5     12\n",
       "6     15\n",
       "7     15\n",
       "8     23\n",
       "9     27\n",
       "10    30\n",
       "dtype: int64"
      ]
     },
     "execution_count": 58,
     "metadata": {},
     "output_type": "execute_result"
    }
   ],
   "source": [
    "s"
   ]
  },
  {
   "cell_type": "code",
   "execution_count": 60,
   "id": "83edc2b9-465e-42b6-b599-0c28730058e5",
   "metadata": {},
   "outputs": [
    {
     "data": {
      "text/plain": [
       "np.int64(5)"
      ]
     },
     "execution_count": 60,
     "metadata": {},
     "output_type": "execute_result"
    }
   ],
   "source": [
    "s[0] #same as python indexing"
   ]
  },
  {
   "cell_type": "code",
   "execution_count": 61,
   "id": "28c95877-793b-4056-93fb-c0c3f3d7c7fa",
   "metadata": {},
   "outputs": [
    {
     "data": {
      "text/plain": [
       "1     5\n",
       "2     5\n",
       "3    10\n",
       "dtype: int64"
      ]
     },
     "execution_count": 61,
     "metadata": {},
     "output_type": "execute_result"
    }
   ],
   "source": [
    "s[1:4] #same as well"
   ]
  },
  {
   "cell_type": "code",
   "execution_count": 68,
   "id": "58dd25dc-aa0f-4d63-9e76-7a5152a36c31",
   "metadata": {},
   "outputs": [
    {
     "data": {
      "text/plain": [
       "np.int64(146)"
      ]
     },
     "execution_count": 68,
     "metadata": {},
     "output_type": "execute_result"
    }
   ],
   "source": [
    "planet_moons[\"Saturn\"] #BUT! this will give me the value corresponding to this label. Cannot be done with a regular python list"
   ]
  },
  {
   "cell_type": "code",
   "execution_count": 67,
   "id": "7f6511f5-1263-4128-8511-657f7d8927ca",
   "metadata": {},
   "outputs": [
    {
     "data": {
      "text/plain": [
       "Venus       0\n",
       "Earth       1\n",
       "Mars        2\n",
       "Jupiter    95\n",
       "dtype: int64"
      ]
     },
     "execution_count": 67,
     "metadata": {},
     "output_type": "execute_result"
    }
   ],
   "source": [
    "planet_moons[\"Venus\" : \"Jupiter\"] #a slice of the list starting with Venus and up until, and including, Jupiter. Cannot be done with a regular python list"
   ]
  },
  {
   "cell_type": "code",
   "execution_count": 72,
   "id": "012990cc-73c2-43f2-b11b-1a1d752f174a",
   "metadata": {},
   "outputs": [
    {
     "name": "stderr",
     "output_type": "stream",
     "text": [
      "/var/folders/b5/0ytjq561357277rwx5t5p9r40000gn/T/ipykernel_28479/99163536.py:1: FutureWarning: Series.__getitem__ treating keys as positions is deprecated. In a future version, integer keys will always be treated as labels (consistent with DataFrame behavior). To access a value by position, use `ser.iloc[pos]`\n",
      "  planet_moons[5] #deprecated...... But giving the value associated with the fifth value in the list. It is deprecated because it could be ambiguous if using number.\n"
     ]
    },
    {
     "data": {
      "text/plain": [
       "np.int64(146)"
      ]
     },
     "execution_count": 72,
     "metadata": {},
     "output_type": "execute_result"
    }
   ],
   "source": [
    "planet_moons[5] #deprecated...... But giving the value associated with the fifth value in the list. It is deprecated because it could be ambiguous if using number."
   ]
  },
  {
   "cell_type": "code",
   "execution_count": 74,
   "id": "ca0bbf14-623c-4401-887a-6a8c92f720de",
   "metadata": {},
   "outputs": [
    {
     "data": {
      "text/plain": [
       "np.int64(10)"
      ]
     },
     "execution_count": 74,
     "metadata": {},
     "output_type": "execute_result"
    }
   ],
   "source": [
    "s.iloc[4] #a better way for always refering to the value at the index"
   ]
  },
  {
   "cell_type": "code",
   "execution_count": null,
   "id": "12e89338-bd3c-49e3-9bf3-185c5aa7193e",
   "metadata": {},
   "outputs": [],
   "source": []
  }
 ],
 "metadata": {
  "kernelspec": {
   "display_name": "Python 3 (ipykernel)",
   "language": "python",
   "name": "python3"
  },
  "language_info": {
   "codemirror_mode": {
    "name": "ipython",
    "version": 3
   },
   "file_extension": ".py",
   "mimetype": "text/x-python",
   "name": "python",
   "nbconvert_exporter": "python",
   "pygments_lexer": "ipython3",
   "version": "3.12.3"
  }
 },
 "nbformat": 4,
 "nbformat_minor": 5
}
