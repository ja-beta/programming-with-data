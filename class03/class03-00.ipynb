{
 "cells": [
  {
   "cell_type": "markdown",
   "id": "c5b34eda-c1fb-47eb-862f-2c17854546db",
   "metadata": {},
   "source": [
    "# Escaping strings"
   ]
  },
  {
   "cell_type": "code",
   "execution_count": 1,
   "id": "481a4e84-f339-4f7d-bfe8-f03266ea1841",
   "metadata": {},
   "outputs": [],
   "source": [
    "## asking questions about strings"
   ]
  },
  {
   "cell_type": "code",
   "execution_count": 2,
   "id": "da052bfd-48c3-4582-91f3-d2b44b556bc6",
   "metadata": {},
   "outputs": [],
   "source": [
    "message = \"suppose there is a pigeon, suppose there is\""
   ]
  },
  {
   "cell_type": "code",
   "execution_count": 4,
   "id": "5c2ea660-183e-4d44-ac03-d683765e2b12",
   "metadata": {},
   "outputs": [
    {
     "data": {
      "text/plain": [
       "str"
      ]
     },
     "execution_count": 4,
     "metadata": {},
     "output_type": "execute_result"
    }
   ],
   "source": [
    "type(message)"
   ]
  },
  {
   "cell_type": "code",
   "execution_count": 8,
   "id": "29ed4140-98cb-425d-9c80-6d0e5a9e4d7d",
   "metadata": {},
   "outputs": [
    {
     "data": {
      "text/plain": [
       "43"
      ]
     },
     "execution_count": 8,
     "metadata": {},
     "output_type": "execute_result"
    }
   ],
   "source": [
    "len(message)"
   ]
  },
  {
   "cell_type": "code",
   "execution_count": 10,
   "id": "9374c289-2822-48ad-89f7-eb2f2102ac64",
   "metadata": {},
   "outputs": [
    {
     "data": {
      "text/plain": [
       "int"
      ]
     },
     "execution_count": 10,
     "metadata": {},
     "output_type": "execute_result"
    }
   ],
   "source": [
    "type(len(\"hello\"))"
   ]
  },
  {
   "cell_type": "code",
   "execution_count": 13,
   "id": "40afdbaa-bf99-4959-9e39-a6f1586ddf76",
   "metadata": {},
   "outputs": [
    {
     "data": {
      "text/plain": [
       "10"
      ]
     },
     "execution_count": 13,
     "metadata": {},
     "output_type": "execute_result"
    }
   ],
   "source": [
    "len(\"hello\") + len(\"there\")"
   ]
  },
  {
   "cell_type": "code",
   "execution_count": 15,
   "id": "5dc646f9-1b3a-41e3-b1bd-633453d0134d",
   "metadata": {},
   "outputs": [
    {
     "data": {
      "text/plain": [
       "11"
      ]
     },
     "execution_count": 15,
     "metadata": {},
     "output_type": "execute_result"
    }
   ],
   "source": [
    "len(\"hello there\")"
   ]
  },
  {
   "cell_type": "code",
   "execution_count": 17,
   "id": "cb880233-41ca-4070-8870-96249a70649b",
   "metadata": {},
   "outputs": [
    {
     "data": {
      "text/plain": [
       "True"
      ]
     },
     "execution_count": 17,
     "metadata": {},
     "output_type": "execute_result"
    }
   ],
   "source": [
    "# in is special and has different uses in different contexts!\n",
    "# here it is checking for a substring. It is like an operator\n",
    "\"here\" in message"
   ]
  },
  {
   "cell_type": "code",
   "execution_count": 19,
   "id": "fca16458-0bef-493d-a45c-d56b46041221",
   "metadata": {},
   "outputs": [
    {
     "data": {
      "text/plain": [
       "False"
      ]
     },
     "execution_count": 19,
     "metadata": {},
     "output_type": "execute_result"
    }
   ],
   "source": [
    "\"jabberwocky\" in message"
   ]
  },
  {
   "cell_type": "markdown",
   "id": "94e01ede-d86c-4c05-b033-5739117f88d1",
   "metadata": {},
   "source": [
    "# string methods!\n",
    "if you write a something, hit \".\" and \"tab\" you will get a menu with available methods.\n",
    "methods don't change the value of the original variable. They return a copy of it with the requested change. We can assign the copy a new variable if we want"
   ]
  },
  {
   "cell_type": "code",
   "execution_count": 22,
   "id": "613ddcad-02a3-4097-8edb-1119be5241a5",
   "metadata": {},
   "outputs": [
    {
     "data": {
      "text/plain": [
       "True"
      ]
     },
     "execution_count": 22,
     "metadata": {},
     "output_type": "execute_result"
    }
   ],
   "source": [
    "message.startswith(\"sup\")"
   ]
  },
  {
   "cell_type": "code",
   "execution_count": 23,
   "id": "03f0527a-3308-484f-b322-806fb7406029",
   "metadata": {},
   "outputs": [
    {
     "data": {
      "text/plain": [
       "False"
      ]
     },
     "execution_count": 23,
     "metadata": {},
     "output_type": "execute_result"
    }
   ],
   "source": [
    "message.endswith(\"?\")"
   ]
  },
  {
   "cell_type": "code",
   "execution_count": 24,
   "id": "ac580cbb-c351-482d-ad10-542c7c2923b1",
   "metadata": {},
   "outputs": [
    {
     "data": {
      "text/plain": [
       "'SUPPOSE THERE IS A PIGEON, SUPPOSE THERE IS'"
      ]
     },
     "execution_count": 24,
     "metadata": {},
     "output_type": "execute_result"
    }
   ],
   "source": [
    "message.upper()"
   ]
  },
  {
   "cell_type": "code",
   "execution_count": 26,
   "id": "97ad06ef-0f8e-4d21-8cfc-f3979516e43d",
   "metadata": {},
   "outputs": [
    {
     "data": {
      "text/plain": [
       "'suppose there is a pigeon, suppose there is'"
      ]
     },
     "execution_count": 26,
     "metadata": {},
     "output_type": "execute_result"
    }
   ],
   "source": [
    "message"
   ]
  },
  {
   "cell_type": "code",
   "execution_count": 27,
   "id": "66ad357e-58bb-4c21-abd0-47c61938be8b",
   "metadata": {},
   "outputs": [
    {
     "data": {
      "text/plain": [
       "'******************suppose there is a pigeon, suppose there is*******************'"
      ]
     },
     "execution_count": 27,
     "metadata": {},
     "output_type": "execute_result"
    }
   ],
   "source": [
    "message.center(80,\"*\") #first parameter is the width of the space, second parameter is the charachter we want to use for padding"
   ]
  },
  {
   "cell_type": "code",
   "execution_count": 28,
   "id": "ef913dcf-fb4a-4167-9848-d437605392ed",
   "metadata": {},
   "outputs": [
    {
     "data": {
      "text/plain": [
       "False"
      ]
     },
     "execution_count": 28,
     "metadata": {},
     "output_type": "execute_result"
    }
   ],
   "source": [
    "message.isupper()"
   ]
  },
  {
   "cell_type": "code",
   "execution_count": 29,
   "id": "9c6d79bc-e411-4f87-8974-98103107e437",
   "metadata": {},
   "outputs": [
    {
     "data": {
      "text/plain": [
       "True"
      ]
     },
     "execution_count": 29,
     "metadata": {},
     "output_type": "execute_result"
    }
   ],
   "source": [
    "\"HEY YOU YEAH YOU\".isupper()"
   ]
  },
  {
   "cell_type": "code",
   "execution_count": 32,
   "id": "a7b1b00b-ba1c-435b-9cb2-ed97368e330e",
   "metadata": {},
   "outputs": [
    {
     "data": {
      "text/plain": [
       "19"
      ]
     },
     "execution_count": 32,
     "metadata": {},
     "output_type": "execute_result"
    }
   ],
   "source": [
    "message.find(\"pig\") #returns position. If it is not present it will return -1"
   ]
  },
  {
   "cell_type": "code",
   "execution_count": 33,
   "id": "882ad57d-ab5e-4200-9606-c9462a24fb30",
   "metadata": {},
   "outputs": [
    {
     "data": {
      "text/plain": [
       "False"
      ]
     },
     "execution_count": 33,
     "metadata": {},
     "output_type": "execute_result"
    }
   ],
   "source": [
    "\"cat\" == \"dog\""
   ]
  },
  {
   "cell_type": "code",
   "execution_count": 34,
   "id": "2ddd9f35-20ca-44f7-96dc-a1b02ab43f4d",
   "metadata": {},
   "outputs": [],
   "source": [
    "x = \"hello\""
   ]
  },
  {
   "cell_type": "code",
   "execution_count": 35,
   "id": "2dab75c4-8520-4e70-aaaf-1d18730495e8",
   "metadata": {},
   "outputs": [
    {
     "data": {
      "text/plain": [
       "True"
      ]
     },
     "execution_count": 35,
     "metadata": {},
     "output_type": "execute_result"
    }
   ],
   "source": [
    "\"hello\" == x"
   ]
  },
  {
   "cell_type": "code",
   "execution_count": 36,
   "id": "9b18680a-09ca-4cbe-89ac-b3477b0e862d",
   "metadata": {},
   "outputs": [
    {
     "data": {
      "text/plain": [
       "'helloworld'"
      ]
     },
     "execution_count": 36,
     "metadata": {},
     "output_type": "execute_result"
    }
   ],
   "source": [
    "\"hello\" + \"world\""
   ]
  },
  {
   "cell_type": "code",
   "execution_count": 37,
   "id": "f1c480c6-88e6-45e2-8f7d-e9eb0f2a528a",
   "metadata": {},
   "outputs": [
    {
     "data": {
      "text/plain": [
       "'hello world'"
      ]
     },
     "execution_count": 37,
     "metadata": {},
     "output_type": "execute_result"
    }
   ],
   "source": [
    "\"hello \" + \"world\""
   ]
  },
  {
   "cell_type": "markdown",
   "id": "110300a8-7054-48bd-8adc-711129ed102a",
   "metadata": {},
   "source": [
    "# string indexing"
   ]
  },
  {
   "cell_type": "code",
   "execution_count": 38,
   "id": "ab1155df-7b59-4f4e-98a9-0013423f858b",
   "metadata": {},
   "outputs": [
    {
     "data": {
      "text/plain": [
       "'suppose there is a pigeon, suppose there is'"
      ]
     },
     "execution_count": 38,
     "metadata": {},
     "output_type": "execute_result"
    }
   ],
   "source": [
    "message"
   ]
  },
  {
   "cell_type": "code",
   "execution_count": 39,
   "id": "21d9341c-3690-4fce-b673-e653d21bd3d0",
   "metadata": {},
   "outputs": [
    {
     "data": {
      "text/plain": [
       "'o'"
      ]
     },
     "execution_count": 39,
     "metadata": {},
     "output_type": "execute_result"
    }
   ],
   "source": [
    "message[4]"
   ]
  },
  {
   "cell_type": "code",
   "execution_count": 40,
   "id": "f2679571-24e0-4267-93ad-95960cecda02",
   "metadata": {},
   "outputs": [],
   "source": [
    "blah = \"knowledge\""
   ]
  },
  {
   "cell_type": "code",
   "execution_count": 41,
   "id": "61685656-dfd8-4cdf-a067-782eed955c3a",
   "metadata": {},
   "outputs": [
    {
     "data": {
      "text/plain": [
       "'k'"
      ]
     },
     "execution_count": 41,
     "metadata": {},
     "output_type": "execute_result"
    }
   ],
   "source": [
    "blah[0]"
   ]
  },
  {
   "cell_type": "code",
   "execution_count": 42,
   "id": "add70ee1-e6ad-4ae5-8b2a-03ead133b010",
   "metadata": {},
   "outputs": [
    {
     "data": {
      "text/plain": [
       "'d'"
      ]
     },
     "execution_count": 42,
     "metadata": {},
     "output_type": "execute_result"
    }
   ],
   "source": [
    "blah[6]"
   ]
  },
  {
   "cell_type": "code",
   "execution_count": 48,
   "id": "9472a372-dcad-463e-ab13-b3ca00140301",
   "metadata": {},
   "outputs": [
    {
     "data": {
      "text/plain": [
       "1"
      ]
     },
     "execution_count": 48,
     "metadata": {},
     "output_type": "execute_result"
    }
   ],
   "source": [
    "len(blah[1])"
   ]
  },
  {
   "cell_type": "code",
   "execution_count": 50,
   "id": "c578bc4d-631b-4dc5-b184-188a4e8715c8",
   "metadata": {},
   "outputs": [
    {
     "data": {
      "text/plain": [
       "'w'"
      ]
     },
     "execution_count": 50,
     "metadata": {},
     "output_type": "execute_result"
    }
   ],
   "source": [
    "blah[int(17*4/20)]"
   ]
  },
  {
   "cell_type": "code",
   "execution_count": 51,
   "id": "955cfb6b-da5a-4b7c-86f1-6aabf2a79e41",
   "metadata": {},
   "outputs": [
    {
     "data": {
      "text/plain": [
       "0"
      ]
     },
     "execution_count": 51,
     "metadata": {},
     "output_type": "execute_result"
    }
   ],
   "source": [
    "len(\"\")"
   ]
  },
  {
   "cell_type": "code",
   "execution_count": 52,
   "id": "5365cbf3-3f83-4bd3-93ba-5c470b403d74",
   "metadata": {},
   "outputs": [
    {
     "data": {
      "text/plain": [
       "'e'"
      ]
     },
     "execution_count": 52,
     "metadata": {},
     "output_type": "execute_result"
    }
   ],
   "source": [
    "blah[len(blah)-1]"
   ]
  },
  {
   "cell_type": "markdown",
   "id": "9eeaf010-ee23-4dd2-8914-02b382bddd77",
   "metadata": {},
   "source": [
    "### negative indexes"
   ]
  },
  {
   "cell_type": "code",
   "execution_count": 54,
   "id": "bd43b305-8cf0-4dc0-9c1e-19cb8ffaf654",
   "metadata": {},
   "outputs": [
    {
     "data": {
      "text/plain": [
       "'e'"
      ]
     },
     "execution_count": 54,
     "metadata": {},
     "output_type": "execute_result"
    }
   ],
   "source": [
    "blah[-1] #will get us the last character of the string"
   ]
  },
  {
   "cell_type": "code",
   "execution_count": 55,
   "id": "9d3b1383-75a8-413b-9b6e-136ca0654b0e",
   "metadata": {},
   "outputs": [
    {
     "data": {
      "text/plain": [
       "'d'"
      ]
     },
     "execution_count": 55,
     "metadata": {},
     "output_type": "execute_result"
    }
   ],
   "source": [
    "blah[-3]"
   ]
  },
  {
   "cell_type": "markdown",
   "id": "1ea7e3f4-0c6c-4e8b-8935-0408e9aac734",
   "metadata": {},
   "source": [
    "## slices"
   ]
  },
  {
   "cell_type": "code",
   "execution_count": 56,
   "id": "188690c8-95e6-4693-b0c4-ab9f5b28e769",
   "metadata": {},
   "outputs": [
    {
     "data": {
      "text/plain": [
       "'knowledge'"
      ]
     },
     "execution_count": 56,
     "metadata": {},
     "output_type": "execute_result"
    }
   ],
   "source": [
    "blah"
   ]
  },
  {
   "cell_type": "code",
   "execution_count": 57,
   "id": "e556e3db-a3e9-4530-8a87-55087f86074d",
   "metadata": {},
   "outputs": [
    {
     "data": {
      "text/plain": [
       "'now'"
      ]
     },
     "execution_count": 57,
     "metadata": {},
     "output_type": "execute_result"
    }
   ],
   "source": [
    "blah[1:4]"
   ]
  },
  {
   "cell_type": "code",
   "execution_count": 58,
   "id": "c8f979b9-e1be-4db0-8685-430084596bf4",
   "metadata": {},
   "outputs": [
    {
     "data": {
      "text/plain": [
       "'owl'"
      ]
     },
     "execution_count": 58,
     "metadata": {},
     "output_type": "execute_result"
    }
   ],
   "source": [
    "blah[2:5]"
   ]
  },
  {
   "cell_type": "code",
   "execution_count": 59,
   "id": "98436b94-2384-485c-a442-c0714665f75f",
   "metadata": {},
   "outputs": [
    {
     "data": {
      "text/plain": [
       "'nowledg'"
      ]
     },
     "execution_count": 59,
     "metadata": {},
     "output_type": "execute_result"
    }
   ],
   "source": [
    "blah[1:-1]"
   ]
  },
  {
   "cell_type": "code",
   "execution_count": 60,
   "id": "fa44c1d0-f851-4eff-bfd5-2ee0605d60e6",
   "metadata": {},
   "outputs": [],
   "source": [
    "x = 5"
   ]
  },
  {
   "cell_type": "code",
   "execution_count": 61,
   "id": "8f697a4d-f241-4376-9edd-ffbbc559ea6e",
   "metadata": {},
   "outputs": [
    {
     "data": {
      "text/plain": [
       "'edg'"
      ]
     },
     "execution_count": 61,
     "metadata": {},
     "output_type": "execute_result"
    }
   ],
   "source": [
    "blah[x:x+3]"
   ]
  },
  {
   "cell_type": "code",
   "execution_count": 62,
   "id": "fc93407e-dd04-4f12-a8ee-cd2c6a541230",
   "metadata": {},
   "outputs": [
    {
     "data": {
      "text/plain": [
       "'knowle'"
      ]
     },
     "execution_count": 62,
     "metadata": {},
     "output_type": "execute_result"
    }
   ],
   "source": [
    "blah[0:6 #this is like get me the first n charachters of the string"
   ]
  },
  {
   "cell_type": "code",
   "execution_count": 63,
   "id": "ad312840-62e7-4a76-b06d-c359f9d39dc8",
   "metadata": {},
   "outputs": [
    {
     "data": {
      "text/plain": [
       "'knowle'"
      ]
     },
     "execution_count": 63,
     "metadata": {},
     "output_type": "execute_result"
    }
   ],
   "source": [
    "blah[:6] #this is the shortened version"
   ]
  },
  {
   "cell_type": "code",
   "execution_count": 64,
   "id": "30738edd-4a01-4435-b934-a566cdfd66d6",
   "metadata": {},
   "outputs": [
    {
     "data": {
      "text/plain": [
       "'knowl'"
      ]
     },
     "execution_count": 64,
     "metadata": {},
     "output_type": "execute_result"
    }
   ],
   "source": [
    "blah[:x]"
   ]
  },
  {
   "cell_type": "code",
   "execution_count": 65,
   "id": "4d717278-9fe4-4b07-b35f-50600e2b298e",
   "metadata": {},
   "outputs": [
    {
     "data": {
      "text/plain": [
       "'edge'"
      ]
     },
     "execution_count": 65,
     "metadata": {},
     "output_type": "execute_result"
    }
   ],
   "source": [
    "blah[5:] "
   ]
  },
  {
   "cell_type": "code",
   "execution_count": 66,
   "id": "3bb2a28c-ca44-4981-9083-a3bad3c472b0",
   "metadata": {},
   "outputs": [
    {
     "data": {
      "text/plain": [
       "'ge'"
      ]
     },
     "execution_count": 66,
     "metadata": {},
     "output_type": "execute_result"
    }
   ],
   "source": [
    "blah[-2:] #give me the n charachters from the end of the string"
   ]
  },
  {
   "cell_type": "code",
   "execution_count": 67,
   "id": "9a9823e5-8658-46da-b74d-f0650df8651d",
   "metadata": {},
   "outputs": [
    {
     "data": {
      "text/plain": [
       "'owledge'"
      ]
     },
     "execution_count": 67,
     "metadata": {},
     "output_type": "execute_result"
    }
   ],
   "source": [
    "blah[2:]"
   ]
  },
  {
   "cell_type": "code",
   "execution_count": 68,
   "id": "333c807e-c8c0-48e1-b49b-0abcf1f433e5",
   "metadata": {},
   "outputs": [
    {
     "data": {
      "text/plain": [
       "10"
      ]
     },
     "execution_count": 68,
     "metadata": {},
     "output_type": "execute_result"
    }
   ],
   "source": [
    "len(message[5:15])"
   ]
  },
  {
   "cell_type": "code",
   "execution_count": 69,
   "id": "4698f194-4044-4175-9ad9-7de30eb2cbcd",
   "metadata": {},
   "outputs": [
    {
     "data": {
      "text/plain": [
       "'se there i'"
      ]
     },
     "execution_count": 69,
     "metadata": {},
     "output_type": "execute_result"
    }
   ],
   "source": [
    "message[5:15]"
   ]
  },
  {
   "cell_type": "code",
   "execution_count": 70,
   "id": "f217cc83-69ee-4c30-a69c-8485a3bd1c65",
   "metadata": {},
   "outputs": [
    {
     "data": {
      "text/plain": [
       "'e the'"
      ]
     },
     "execution_count": 70,
     "metadata": {},
     "output_type": "execute_result"
    }
   ],
   "source": [
    "message[-10:-5]"
   ]
  },
  {
   "cell_type": "markdown",
   "id": "9b13f218-2ab4-4297-bd58-b5c773ab9207",
   "metadata": {},
   "source": [
    "# list\n",
    "* \"array\"\n",
    "* sequence type\n",
    "* like a column in a spreadsheet"
   ]
  },
  {
   "cell_type": "code",
   "execution_count": 71,
   "id": "66762ea1-6f8f-41cc-870d-59b3ecf5646f",
   "metadata": {},
   "outputs": [],
   "source": [
    "good_numbers = [5, 10, 15, 20, 25, 30]"
   ]
  },
  {
   "cell_type": "code",
   "execution_count": 72,
   "id": "80ee7efb-dafb-428b-ae63-569eb23b8dba",
   "metadata": {},
   "outputs": [
    {
     "data": {
      "text/plain": [
       "list"
      ]
     },
     "execution_count": 72,
     "metadata": {},
     "output_type": "execute_result"
    }
   ],
   "source": [
    "type(good_numbers)"
   ]
  },
  {
   "cell_type": "code",
   "execution_count": 73,
   "id": "fafb95bc-3912-4597-bb5f-96822df588fb",
   "metadata": {},
   "outputs": [],
   "source": [
    "# this is special because list can contain other types"
   ]
  },
  {
   "cell_type": "code",
   "execution_count": 74,
   "id": "e3770034-b9a3-4b73-9fa3-de2ae6ed4d8f",
   "metadata": {},
   "outputs": [],
   "source": [
    "gloop = [4]"
   ]
  },
  {
   "cell_type": "code",
   "execution_count": 75,
   "id": "c20231f5-c9ee-42ce-8c46-fd3ff7c59e06",
   "metadata": {},
   "outputs": [
    {
     "data": {
      "text/plain": [
       "list"
      ]
     },
     "execution_count": 75,
     "metadata": {},
     "output_type": "execute_result"
    }
   ],
   "source": [
    "type(gloop)"
   ]
  },
  {
   "cell_type": "code",
   "execution_count": 76,
   "id": "dc80340b-f5f9-40cc-af96-83a392663443",
   "metadata": {},
   "outputs": [
    {
     "data": {
      "text/plain": [
       "1"
      ]
     },
     "execution_count": 76,
     "metadata": {},
     "output_type": "execute_result"
    }
   ],
   "source": [
    "len(gloop)"
   ]
  },
  {
   "cell_type": "code",
   "execution_count": 77,
   "id": "922cf329-92e2-4213-9c4b-f87a4bd4948b",
   "metadata": {},
   "outputs": [
    {
     "data": {
      "text/plain": [
       "6"
      ]
     },
     "execution_count": 77,
     "metadata": {},
     "output_type": "execute_result"
    }
   ],
   "source": [
    "len(good_numbers)"
   ]
  },
  {
   "cell_type": "code",
   "execution_count": 78,
   "id": "90452379-c6ae-4609-b4c0-045bb382e551",
   "metadata": {},
   "outputs": [
    {
     "data": {
      "text/plain": [
       "0"
      ]
     },
     "execution_count": 78,
     "metadata": {},
     "output_type": "execute_result"
    }
   ],
   "source": [
    "len([])"
   ]
  },
  {
   "cell_type": "code",
   "execution_count": 79,
   "id": "c88c09dd-bb20-49b6-82a5-0710568acd19",
   "metadata": {},
   "outputs": [],
   "source": [
    "good_numbers.append(125) #this will modify the list and actually add the number to is"
   ]
  },
  {
   "cell_type": "code",
   "execution_count": 80,
   "id": "ee49197f-e911-48f9-846c-d1e3214c589d",
   "metadata": {},
   "outputs": [
    {
     "data": {
      "text/plain": [
       "[5, 10, 15, 20, 25, 30, 125]"
      ]
     },
     "execution_count": 80,
     "metadata": {},
     "output_type": "execute_result"
    }
   ],
   "source": [
    "good_numbers"
   ]
  },
  {
   "cell_type": "code",
   "execution_count": 97,
   "id": "c1766bcd-8308-4570-9b1a-69280ce986de",
   "metadata": {},
   "outputs": [],
   "source": [
    "good_numbers.append(\"150\")"
   ]
  },
  {
   "cell_type": "code",
   "execution_count": 98,
   "id": "4f0edb67-9508-475f-addd-4eec4b8524cc",
   "metadata": {},
   "outputs": [
    {
     "data": {
      "text/plain": [
       "[5, 10, 15, 20, 25, 30, 125, 'hello', '150']"
      ]
     },
     "execution_count": 98,
     "metadata": {},
     "output_type": "execute_result"
    }
   ],
   "source": [
    "good_numbers #lists can have different types in it, like other lists. This is actually how you make a table - nested lists)"
   ]
  },
  {
   "cell_type": "code",
   "execution_count": 84,
   "id": "b940f1e4-aed5-4229-9a2a-8929fbf007e3",
   "metadata": {},
   "outputs": [],
   "source": [
    "florp = [7, \"hello\", 4.3, [1, 2, 3]]"
   ]
  },
  {
   "cell_type": "code",
   "execution_count": 85,
   "id": "e334decb-043c-4860-a8e0-b9f5df8e89df",
   "metadata": {},
   "outputs": [
    {
     "data": {
      "text/plain": [
       "4"
      ]
     },
     "execution_count": 85,
     "metadata": {},
     "output_type": "execute_result"
    }
   ],
   "source": [
    "len(florp)"
   ]
  },
  {
   "cell_type": "code",
   "execution_count": 88,
   "id": "925c696c-adb6-458c-9af7-5f9e53f4fe46",
   "metadata": {},
   "outputs": [
    {
     "data": {
      "text/plain": [
       "[5, 10, 15, 20, 25, 30, 125, 'hello']"
      ]
     },
     "execution_count": 88,
     "metadata": {},
     "output_type": "execute_result"
    }
   ],
   "source": [
    "good_numbers"
   ]
  },
  {
   "cell_type": "code",
   "execution_count": 89,
   "id": "d4a9f654-e2f4-4c6f-af89-0f14da8b3405",
   "metadata": {},
   "outputs": [
    {
     "data": {
      "text/plain": [
       "25"
      ]
     },
     "execution_count": 89,
     "metadata": {},
     "output_type": "execute_result"
    }
   ],
   "source": [
    "good_numbers[4]"
   ]
  },
  {
   "cell_type": "code",
   "execution_count": 90,
   "id": "dc414097-78f4-4617-a38e-7a8fc4c220ec",
   "metadata": {},
   "outputs": [
    {
     "data": {
      "text/plain": [
       "'hello'"
      ]
     },
     "execution_count": 90,
     "metadata": {},
     "output_type": "execute_result"
    }
   ],
   "source": [
    "good_numbers[-1]"
   ]
  },
  {
   "cell_type": "code",
   "execution_count": 91,
   "id": "659b1ce6-a882-469e-8293-f67bb70de1f1",
   "metadata": {},
   "outputs": [
    {
     "data": {
      "text/plain": [
       "[15, 20, 25, 30]"
      ]
     },
     "execution_count": 91,
     "metadata": {},
     "output_type": "execute_result"
    }
   ],
   "source": [
    "good_numbers[2:6]"
   ]
  },
  {
   "cell_type": "code",
   "execution_count": 92,
   "id": "c96bf287-4248-4042-8667-71d5370e06dd",
   "metadata": {},
   "outputs": [
    {
     "data": {
      "text/plain": [
       "int"
      ]
     },
     "execution_count": 92,
     "metadata": {},
     "output_type": "execute_result"
    }
   ],
   "source": [
    "type(good_numbers[0])"
   ]
  },
  {
   "cell_type": "code",
   "execution_count": 94,
   "id": "cb74b417-fc7b-488d-bd65-237f9e1c42b6",
   "metadata": {},
   "outputs": [
    {
     "data": {
      "text/plain": [
       "str"
      ]
     },
     "execution_count": 94,
     "metadata": {},
     "output_type": "execute_result"
    }
   ],
   "source": [
    "type(good_numbers[-1])"
   ]
  },
  {
   "cell_type": "code",
   "execution_count": 95,
   "id": "b01f1a73-56fe-48a5-b685-15200cc77f22",
   "metadata": {},
   "outputs": [
    {
     "data": {
      "text/plain": [
       "list"
      ]
     },
     "execution_count": 95,
     "metadata": {},
     "output_type": "execute_result"
    }
   ],
   "source": [
    "type(good_numbers[:4])"
   ]
  },
  {
   "cell_type": "code",
   "execution_count": 100,
   "id": "012c83f8-353d-43cd-af28-d6b079da170d",
   "metadata": {},
   "outputs": [
    {
     "data": {
      "text/plain": [
       "[0, 6, 45, 56745]"
      ]
     },
     "execution_count": 100,
     "metadata": {},
     "output_type": "execute_result"
    }
   ],
   "source": [
    "sorted([6, 0, 45, 56745]) #this just returns a copy"
   ]
  },
  {
   "cell_type": "code",
   "execution_count": 101,
   "id": "1d4f4449-0a88-4d15-b190-96d8a60f3d63",
   "metadata": {},
   "outputs": [
    {
     "data": {
      "text/plain": [
       "False"
      ]
     },
     "execution_count": 101,
     "metadata": {},
     "output_type": "execute_result"
    }
   ],
   "source": [
    "\"hi\" in good_numbers"
   ]
  },
  {
   "cell_type": "code",
   "execution_count": 103,
   "id": "02a25d3f-cbfc-4745-9ccb-5452bc9d0d37",
   "metadata": {},
   "outputs": [
    {
     "data": {
      "text/plain": [
       "True"
      ]
     },
     "execution_count": 103,
     "metadata": {},
     "output_type": "execute_result"
    }
   ],
   "source": [
    "25 in good_numbers"
   ]
  },
  {
   "cell_type": "code",
   "execution_count": 104,
   "id": "60c8cca8-9941-4d59-96cd-1093521baad6",
   "metadata": {},
   "outputs": [
    {
     "data": {
      "text/plain": [
       "'x'"
      ]
     },
     "execution_count": 104,
     "metadata": {},
     "output_type": "execute_result"
    }
   ],
   "source": [
    "max(\"exciting\")"
   ]
  },
  {
   "cell_type": "code",
   "execution_count": 105,
   "id": "9aabc842-1f82-4171-8474-cbfce74c1a9c",
   "metadata": {},
   "outputs": [
    {
     "data": {
      "text/plain": [
       "'c'"
      ]
     },
     "execution_count": 105,
     "metadata": {},
     "output_type": "execute_result"
    }
   ],
   "source": [
    "min(\"exciting\")"
   ]
  },
  {
   "cell_type": "code",
   "execution_count": 107,
   "id": "43bd0c2a-c577-4bc5-845c-bbb0e67d1022",
   "metadata": {},
   "outputs": [
    {
     "data": {
      "text/plain": [
       "True"
      ]
     },
     "execution_count": 107,
     "metadata": {},
     "output_type": "execute_result"
    }
   ],
   "source": [
    "\"zebra\" > \"aardvark\" #this is working because it looks at strings as unicode"
   ]
  },
  {
   "cell_type": "code",
   "execution_count": 108,
   "id": "4f8ba18e-3938-461e-a98d-83542c54738f",
   "metadata": {},
   "outputs": [],
   "source": [
    "words = [\"giraffe\", \"horse\", \"octopus\", \"capybara\", \"possum\", \"tiger\"]"
   ]
  },
  {
   "cell_type": "code",
   "execution_count": 110,
   "id": "3b09d168-ca10-440d-a79d-bba4f3dbcc70",
   "metadata": {},
   "outputs": [
    {
     "data": {
      "text/plain": [
       "['capybara', 'giraffe', 'horse', 'octopus', 'possum', 'tiger']"
      ]
     },
     "execution_count": 110,
     "metadata": {},
     "output_type": "execute_result"
    }
   ],
   "source": [
    "sorted(words)"
   ]
  },
  {
   "cell_type": "code",
   "execution_count": 111,
   "id": "ef40aadd-3264-4695-b6f6-b4bc44a3e4c8",
   "metadata": {},
   "outputs": [
    {
     "name": "stdout",
     "output_type": "stream",
     "text": [
      "Help on built-in function sum in module builtins:\n",
      "\n",
      "sum(iterable, /, start=0)\n",
      "    Return the sum of a 'start' value (default: 0) plus an iterable of numbers\n",
      "\n",
      "    When the iterable is empty, return the start value.\n",
      "    This function is intended specifically for use with numeric values and may\n",
      "    reject non-numeric types.\n",
      "\n"
     ]
    }
   ],
   "source": [
    "help(sum)"
   ]
  },
  {
   "cell_type": "markdown",
   "id": "01ef478e-fd73-436d-9153-02b31c7a7d4f",
   "metadata": {},
   "source": [
    "## split and join: twin deities of creation and destruction\n",
    "* string -> list (filtering, summarizing, other stuff...)\n",
    "* list -> string (output)"
   ]
  },
  {
   "cell_type": "code",
   "execution_count": 113,
   "id": "2beacfc8-768d-4f21-a282-c00f0999754d",
   "metadata": {},
   "outputs": [],
   "source": [
    "stats = \"17,23,45,8,43,30,20,7,50\""
   ]
  },
  {
   "cell_type": "code",
   "execution_count": 114,
   "id": "0748536d-b87d-472d-a334-a6eee155fa10",
   "metadata": {},
   "outputs": [
    {
     "data": {
      "text/plain": [
       "','"
      ]
     },
     "execution_count": 114,
     "metadata": {},
     "output_type": "execute_result"
    }
   ],
   "source": [
    "min(stats)"
   ]
  },
  {
   "cell_type": "code",
   "execution_count": 131,
   "id": "872216d0-b2e4-449e-b377-1246ba3c3843",
   "metadata": {},
   "outputs": [],
   "source": [
    "stats_list = stats.split(\",\") #split is called on string, you give it a delimiter that it uses to break the string"
   ]
  },
  {
   "cell_type": "code",
   "execution_count": 116,
   "id": "59cda9db-2903-4b56-9d8a-33c6b17564c7",
   "metadata": {},
   "outputs": [
    {
     "data": {
      "text/plain": [
       "'17,23,45,8,43,30,20,7,50'"
      ]
     },
     "execution_count": 116,
     "metadata": {},
     "output_type": "execute_result"
    }
   ],
   "source": [
    "stats"
   ]
  },
  {
   "cell_type": "code",
   "execution_count": 118,
   "id": "1158ab50-b1a6-4fb4-bae2-94f49a47c08b",
   "metadata": {},
   "outputs": [
    {
     "data": {
      "text/plain": [
       "'17'"
      ]
     },
     "execution_count": 118,
     "metadata": {},
     "output_type": "execute_result"
    }
   ],
   "source": [
    "min(stats.split(\",\")) #will sort alphabetically, because 17 starts with 1... so silly"
   ]
  },
  {
   "cell_type": "code",
   "execution_count": 120,
   "id": "d116d9eb-31fd-4308-8c3f-22902a885476",
   "metadata": {},
   "outputs": [
    {
     "data": {
      "text/plain": [
       "'8'"
      ]
     },
     "execution_count": 120,
     "metadata": {},
     "output_type": "execute_result"
    }
   ],
   "source": [
    "max(stats.split(\",\"))"
   ]
  },
  {
   "cell_type": "code",
   "execution_count": 121,
   "id": "82344ac7-eef2-4dab-bc68-72858b342e03",
   "metadata": {},
   "outputs": [
    {
     "data": {
      "text/plain": [
       "['giraffe', 'horse', 'octopus', 'capybara', 'possum', 'tiger']"
      ]
     },
     "execution_count": 121,
     "metadata": {},
     "output_type": "execute_result"
    }
   ],
   "source": [
    "words"
   ]
  },
  {
   "cell_type": "code",
   "execution_count": 122,
   "id": "828e6dcc-6cc2-4aea-86bb-e160f35781ff",
   "metadata": {},
   "outputs": [
    {
     "data": {
      "text/plain": [
       "'giraffe and horse and octopus and capybara and possum and tiger'"
      ]
     },
     "execution_count": 122,
     "metadata": {},
     "output_type": "execute_result"
    }
   ],
   "source": [
    "\" and \".join(words)"
   ]
  },
  {
   "cell_type": "code",
   "execution_count": 123,
   "id": "b85d8944-651c-4f9d-8b0d-788ad44e3741",
   "metadata": {},
   "outputs": [],
   "source": [
    "glue = \", or \""
   ]
  },
  {
   "cell_type": "code",
   "execution_count": 124,
   "id": "ee17f007-cd80-457b-b3da-ec7d7cad99d1",
   "metadata": {},
   "outputs": [
    {
     "data": {
      "text/plain": [
       "'giraffe, or horse, or octopus, or capybara, or possum, or tiger'"
      ]
     },
     "execution_count": 124,
     "metadata": {},
     "output_type": "execute_result"
    }
   ],
   "source": [
    "glue.join(words)"
   ]
  },
  {
   "cell_type": "code",
   "execution_count": 125,
   "id": "ff91886d-63b3-4576-b795-9c0c7fd807e1",
   "metadata": {},
   "outputs": [
    {
     "data": {
      "text/plain": [
       "'giraffehorseoctopuscapybarapossumtiger'"
      ]
     },
     "execution_count": 125,
     "metadata": {},
     "output_type": "execute_result"
    }
   ],
   "source": [
    "\"\".join(words)"
   ]
  },
  {
   "cell_type": "code",
   "execution_count": 126,
   "id": "a3f65b53-b89e-492d-861f-348b90a1e216",
   "metadata": {},
   "outputs": [],
   "source": [
    "students = \"agatha,beatrice,carl,deirdre\""
   ]
  },
  {
   "cell_type": "code",
   "execution_count": 127,
   "id": "2bcea0ba-ecb2-4b9e-b997-7eaefbdb08fa",
   "metadata": {},
   "outputs": [
    {
     "data": {
      "text/plain": [
       "['agatha', 'beatrice', 'carl', 'deirdre']"
      ]
     },
     "execution_count": 127,
     "metadata": {},
     "output_type": "execute_result"
    }
   ],
   "source": [
    "students.split(\",\")"
   ]
  },
  {
   "cell_type": "code",
   "execution_count": 130,
   "id": "4840d901-7e7d-4149-9d9f-eebf98abc072",
   "metadata": {},
   "outputs": [
    {
     "data": {
      "text/plain": [
       "'agatha,beatrice,carl,deirdre'"
      ]
     },
     "execution_count": 130,
     "metadata": {},
     "output_type": "execute_result"
    }
   ],
   "source": [
    "students"
   ]
  },
  {
   "cell_type": "code",
   "execution_count": 128,
   "id": "c49439f4-5139-44a2-a9d8-2e9e4df627e1",
   "metadata": {},
   "outputs": [],
   "source": [
    "students_list = students.split(\",\")"
   ]
  },
  {
   "cell_type": "code",
   "execution_count": 129,
   "id": "74bf3867-0aae-4a1c-b2ec-efd392cf2769",
   "metadata": {},
   "outputs": [
    {
     "data": {
      "text/plain": [
       "['agatha', 'beatrice', 'carl', 'deirdre']"
      ]
     },
     "execution_count": 129,
     "metadata": {},
     "output_type": "execute_result"
    }
   ],
   "source": [
    "students_list"
   ]
  },
  {
   "cell_type": "markdown",
   "id": "6ffa9729-e0e7-4401-aa05-a739eef56641",
   "metadata": {},
   "source": [
    "# loops!"
   ]
  },
  {
   "cell_type": "code",
   "execution_count": 132,
   "id": "774459b9-4c2c-4c80-a0a4-d2081925ff1b",
   "metadata": {},
   "outputs": [
    {
     "data": {
      "text/plain": [
       "['17', '23', '45', '8', '43', '30', '20', '7', '50']"
      ]
     },
     "execution_count": 132,
     "metadata": {},
     "output_type": "execute_result"
    }
   ],
   "source": [
    "stats_list"
   ]
  },
  {
   "cell_type": "code",
   "execution_count": null,
   "id": "3920bc2a-bac9-4a16-8b25-0904c6d7612b",
   "metadata": {},
   "outputs": [],
   "source": [
    "# item could be any variable we decide on.\n",
    "# second line gotta be indented, that's how python knows what belongs in the loop"
   ]
  },
  {
   "cell_type": "code",
   "execution_count": 133,
   "id": "5f529fb2-3102-4433-94cb-dcddb2736e4d",
   "metadata": {},
   "outputs": [
    {
     "name": "stdout",
     "output_type": "stream",
     "text": [
      "17\n",
      "23\n",
      "45\n",
      "8\n",
      "43\n",
      "30\n",
      "20\n",
      "7\n",
      "50\n"
     ]
    }
   ],
   "source": [
    "for item in stats_list :\n",
    "    print(item)"
   ]
  },
  {
   "cell_type": "code",
   "execution_count": 134,
   "id": "478c11d3-ebc9-42c6-ad1b-8302ee7a5f87",
   "metadata": {},
   "outputs": [
    {
     "name": "stdout",
     "output_type": "stream",
     "text": [
      "17\n",
      "23\n",
      "45\n",
      "8\n",
      "43\n",
      "30\n",
      "20\n",
      "7\n",
      "50\n"
     ]
    }
   ],
   "source": [
    "for item in stats_list :\n",
    "    x = int(item)\n",
    "    print(x)"
   ]
  },
  {
   "cell_type": "code",
   "execution_count": 135,
   "id": "2dcf828c-ee43-4c90-aef8-91ef0f242d4f",
   "metadata": {},
   "outputs": [
    {
     "name": "stdout",
     "output_type": "stream",
     "text": [
      "gir\n",
      "hor\n",
      "oct\n",
      "cap\n",
      "pos\n",
      "tig\n"
     ]
    }
   ],
   "source": [
    "for animal in words:\n",
    "    print(animal[:3])"
   ]
  },
  {
   "cell_type": "markdown",
   "id": "dea3c978-6dad-4ca2-af50-aa405ab28c49",
   "metadata": {},
   "source": [
    "* data -> list -> numbers -> summarizing(?) -> display\n",
    "* list of strings -> process -> list of numbers\n",
    "* input -> filtering / modifying -> output"
   ]
  },
  {
   "cell_type": "code",
   "execution_count": 136,
   "id": "990789e5-4445-4707-bc76-7abc50cf2cbe",
   "metadata": {},
   "outputs": [],
   "source": [
    "stuff = [\"a\", \"b\", \"c\", \"d\"]"
   ]
  },
  {
   "cell_type": "code",
   "execution_count": 137,
   "id": "135177b8-a775-40df-85b9-90ba96b772bb",
   "metadata": {},
   "outputs": [],
   "source": [
    "stuff.append(\"chocolate chip ice cream\")"
   ]
  },
  {
   "cell_type": "code",
   "execution_count": 138,
   "id": "d5368fc2-9113-4b36-be4a-b1c9c700a452",
   "metadata": {},
   "outputs": [
    {
     "data": {
      "text/plain": [
       "['a', 'b', 'c', 'd', 'chocolate chip ice cream']"
      ]
     },
     "execution_count": 138,
     "metadata": {},
     "output_type": "execute_result"
    }
   ],
   "source": [
    "stuff"
   ]
  },
  {
   "cell_type": "code",
   "execution_count": 139,
   "id": "6615f1be-1b28-4a2b-9c48-3bd398997638",
   "metadata": {},
   "outputs": [
    {
     "data": {
      "text/plain": [
       "['17', '23', '45', '8', '43', '30', '20', '7', '50']"
      ]
     },
     "execution_count": 139,
     "metadata": {},
     "output_type": "execute_result"
    }
   ],
   "source": [
    "stats_list"
   ]
  },
  {
   "cell_type": "code",
   "execution_count": 140,
   "id": "47a714e8-2c69-477a-adc3-61a9b6b88432",
   "metadata": {},
   "outputs": [],
   "source": [
    "stats_numbers = []\n",
    "for item in stats_list :\n",
    "    x = int(item)\n",
    "    stats_numbers.append(x)"
   ]
  },
  {
   "cell_type": "code",
   "execution_count": 141,
   "id": "0de5c954-4582-4b98-9604-d522056ab09b",
   "metadata": {},
   "outputs": [
    {
     "data": {
      "text/plain": [
       "[17, 23, 45, 8, 43, 30, 20, 7, 50]"
      ]
     },
     "execution_count": 141,
     "metadata": {},
     "output_type": "execute_result"
    }
   ],
   "source": [
    "stats_numbers"
   ]
  },
  {
   "cell_type": "code",
   "execution_count": 142,
   "id": "62e964da-5ce1-4d09-b558-6c0c96e852c3",
   "metadata": {},
   "outputs": [
    {
     "data": {
      "text/plain": [
       "7"
      ]
     },
     "execution_count": 142,
     "metadata": {},
     "output_type": "execute_result"
    }
   ],
   "source": [
    "min(stats_numbers)"
   ]
  },
  {
   "cell_type": "code",
   "execution_count": 143,
   "id": "fe0b1f1a-9a19-47c7-babc-104891e5b644",
   "metadata": {},
   "outputs": [
    {
     "data": {
      "text/plain": [
       "50"
      ]
     },
     "execution_count": 143,
     "metadata": {},
     "output_type": "execute_result"
    }
   ],
   "source": [
    "max(stats_numbers)"
   ]
  },
  {
   "cell_type": "code",
   "execution_count": 144,
   "id": "49ef600c-fadb-434c-8155-6b049440b16b",
   "metadata": {},
   "outputs": [
    {
     "data": {
      "text/plain": [
       "243"
      ]
     },
     "execution_count": 144,
     "metadata": {},
     "output_type": "execute_result"
    }
   ],
   "source": [
    "sum(stats_numbers)"
   ]
  },
  {
   "cell_type": "code",
   "execution_count": 145,
   "id": "54f26408-0ab8-4c99-a27e-5eebefadd489",
   "metadata": {},
   "outputs": [
    {
     "data": {
      "text/plain": [
       "['giraffe', 'horse', 'octopus', 'capybara', 'possum', 'tiger']"
      ]
     },
     "execution_count": 145,
     "metadata": {},
     "output_type": "execute_result"
    }
   ],
   "source": [
    "words"
   ]
  },
  {
   "cell_type": "code",
   "execution_count": 146,
   "id": "a5b05c27-daff-4f93-a151-956c4a844258",
   "metadata": {},
   "outputs": [],
   "source": [
    "first_letter = []\n",
    "for item in words:\n",
    "    first_letter.append(item[0])"
   ]
  },
  {
   "cell_type": "code",
   "execution_count": 147,
   "id": "67acf587-3f53-41b1-ae51-8abb0244aa21",
   "metadata": {},
   "outputs": [
    {
     "data": {
      "text/plain": [
       "['g', 'h', 'o', 'c', 'p', 't']"
      ]
     },
     "execution_count": 147,
     "metadata": {},
     "output_type": "execute_result"
    }
   ],
   "source": [
    "first_letter"
   ]
  },
  {
   "cell_type": "code",
   "execution_count": 148,
   "id": "a885c0d0-95e8-42f7-b010-019916e2b104",
   "metadata": {},
   "outputs": [
    {
     "data": {
      "text/plain": [
       "'17,23,45,8,43,30,20,7,50'"
      ]
     },
     "execution_count": 148,
     "metadata": {},
     "output_type": "execute_result"
    }
   ],
   "source": [
    "stats"
   ]
  },
  {
   "cell_type": "code",
   "execution_count": 149,
   "id": "a51dc664-017d-47d5-9b17-4b269fbef58a",
   "metadata": {},
   "outputs": [],
   "source": [
    "stats_numbers = []\n",
    "for item in stats_list :\n",
    "    x = int(item)\n",
    "    if x > 10:\n",
    "        stats_numbers.append(x)"
   ]
  },
  {
   "cell_type": "code",
   "execution_count": 150,
   "id": "3669eaa9-9a3f-4d6b-9d5a-683efbf3809b",
   "metadata": {},
   "outputs": [
    {
     "data": {
      "text/plain": [
       "[17, 23, 45, 43, 30, 20, 50]"
      ]
     },
     "execution_count": 150,
     "metadata": {},
     "output_type": "execute_result"
    }
   ],
   "source": [
    "stats_numbers"
   ]
  },
  {
   "cell_type": "code",
   "execution_count": 151,
   "id": "3d6f77cb-3919-45b4-8ab9-7e2c558b9d84",
   "metadata": {},
   "outputs": [
    {
     "data": {
      "text/plain": [
       "17"
      ]
     },
     "execution_count": 151,
     "metadata": {},
     "output_type": "execute_result"
    }
   ],
   "source": [
    "min(stats_numbers)"
   ]
  },
  {
   "cell_type": "markdown",
   "id": "006dacbf-cb90-4d31-b39d-cd5814b083ef",
   "metadata": {},
   "source": [
    "## list comprehension"
   ]
  },
  {
   "cell_type": "code",
   "execution_count": 152,
   "id": "55992d17-e8f7-4d12-9ba1-502c2ad7e679",
   "metadata": {},
   "outputs": [],
   "source": [
    "stats_numbers = []\n",
    "for item in stats_list :\n",
    "    x = int(item)\n",
    "    if x > 10:\n",
    "        stats_numbers.append(x)"
   ]
  },
  {
   "cell_type": "code",
   "execution_count": 153,
   "id": "2ed132f2-365a-47af-ad66-a65ea4550edd",
   "metadata": {},
   "outputs": [],
   "source": [
    "# a faster way:"
   ]
  },
  {
   "cell_type": "code",
   "execution_count": 154,
   "id": "4ad1d2a4-22a9-45bf-bf65-f50f6f00b687",
   "metadata": {},
   "outputs": [
    {
     "data": {
      "text/plain": [
       "[17, 23, 45, 43, 30, 20, 50]"
      ]
     },
     "execution_count": 154,
     "metadata": {},
     "output_type": "execute_result"
    }
   ],
   "source": [
    "[ int(item) for item in stats_list if int(item) > 10]"
   ]
  },
  {
   "cell_type": "code",
   "execution_count": 159,
   "id": "f823e514-5426-4a49-96ef-5e37990be929",
   "metadata": {},
   "outputs": [
    {
     "data": {
      "text/plain": [
       "['GIRAFFE', 'HORSE', 'OCTOPUS', 'CAPYBARA', 'POSSUM', 'TIGER']"
      ]
     },
     "execution_count": 159,
     "metadata": {},
     "output_type": "execute_result"
    }
   ],
   "source": [
    "#shorter\n",
    "[animal.upper() for animal in words] "
   ]
  },
  {
   "cell_type": "code",
   "execution_count": 157,
   "id": "41af2cc9-2593-433b-bfb2-d33e9458fbd5",
   "metadata": {},
   "outputs": [
    {
     "data": {
      "text/plain": [
       "['GIRAFFE', 'HORSE', 'OCTOPUS', 'CAPYBARA', 'POSSUM', 'TIGER']"
      ]
     },
     "execution_count": 157,
     "metadata": {},
     "output_type": "execute_result"
    }
   ],
   "source": [
    "# longer\n",
    "blah = []\n",
    "for animal in words:\n",
    "    blah.append(animal.upper())\n",
    "blah"
   ]
  },
  {
   "cell_type": "code",
   "execution_count": 162,
   "id": "475e5bf9-5c6d-465b-a25f-7a278dbecb05",
   "metadata": {},
   "outputs": [
    {
     "data": {
      "text/plain": [
       "3"
      ]
     },
     "execution_count": 162,
     "metadata": {},
     "output_type": "execute_result"
    }
   ],
   "source": [
    "len([True for item in words if len(item) > 6])"
   ]
  },
  {
   "cell_type": "code",
   "execution_count": null,
   "id": "05a7cab4-2546-49a3-a4a5-2d137407e317",
   "metadata": {},
   "outputs": [],
   "source": []
  }
 ],
 "metadata": {
  "kernelspec": {
   "display_name": "Python 3 (ipykernel)",
   "language": "python",
   "name": "python3"
  },
  "language_info": {
   "codemirror_mode": {
    "name": "ipython",
    "version": 3
   },
   "file_extension": ".py",
   "mimetype": "text/x-python",
   "name": "python",
   "nbconvert_exporter": "python",
   "pygments_lexer": "ipython3",
   "version": "3.12.3"
  }
 },
 "nbformat": 4,
 "nbformat_minor": 5
}
