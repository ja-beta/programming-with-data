{
 "cells": [
  {
   "cell_type": "code",
   "execution_count": 1,
   "id": "d275d9d0-6586-4a31-bf4a-649ee0f29eee",
   "metadata": {
    "scrolled": true
   },
   "outputs": [
    {
     "data": {
      "text/plain": [
       "10"
      ]
     },
     "execution_count": 1,
     "metadata": {},
     "output_type": "execute_result"
    }
   ],
   "source": [
    "5 + 5"
   ]
  },
  {
   "cell_type": "markdown",
   "id": "a86bcbb2-3da2-42a8-b8bb-5f12a78aaeb4",
   "metadata": {},
   "source": [
    "# This is a headline!\n",
    "And this is just text\n",
    "And here's a list:\n",
    "* one\n",
    "* two\n",
    "* three"
   ]
  },
  {
   "cell_type": "code",
   "execution_count": null,
   "id": "ecb44b90-1e1f-4f8e-ab84-51ed8a1353f1",
   "metadata": {},
   "outputs": [],
   "source": []
  }
 ],
 "metadata": {
  "kernelspec": {
   "display_name": "Python 3 (ipykernel)",
   "language": "python",
   "name": "python3"
  },
  "language_info": {
   "codemirror_mode": {
    "name": "ipython",
    "version": 3
   },
   "file_extension": ".py",
   "mimetype": "text/x-python",
   "name": "python",
   "nbconvert_exporter": "python",
   "pygments_lexer": "ipython3",
   "version": "3.12.3"
  }
 },
 "nbformat": 4,
 "nbformat_minor": 5
}
