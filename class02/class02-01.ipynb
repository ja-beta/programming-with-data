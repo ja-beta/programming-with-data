{
 "cells": [
  {
   "cell_type": "code",
   "execution_count": 1,
   "id": "e38c04dc-54db-40f0-b01a-2ab475960095",
   "metadata": {},
   "outputs": [
    {
     "data": {
      "text/plain": [
       "False"
      ]
     },
     "execution_count": 1,
     "metadata": {},
     "output_type": "execute_result"
    }
   ],
   "source": [
    "7 == 9"
   ]
  },
  {
   "cell_type": "code",
   "execution_count": 2,
   "id": "65200d1e-e6f5-4406-b962-409ade288e04",
   "metadata": {},
   "outputs": [
    {
     "data": {
      "text/plain": [
       "False"
      ]
     },
     "execution_count": 2,
     "metadata": {},
     "output_type": "execute_result"
    }
   ],
   "source": [
    "324 < 12"
   ]
  },
  {
   "cell_type": "code",
   "execution_count": 3,
   "id": "64e09730-42e6-40f0-9535-2b284f356a5a",
   "metadata": {},
   "outputs": [
    {
     "data": {
      "text/plain": [
       "True"
      ]
     },
     "execution_count": 3,
     "metadata": {},
     "output_type": "execute_result"
    }
   ],
   "source": [
    "1 <= 40"
   ]
  },
  {
   "cell_type": "code",
   "execution_count": 7,
   "id": "c192a061-8131-4f29-9344-9af78f233987",
   "metadata": {},
   "outputs": [
    {
     "data": {
      "text/plain": [
       "False"
      ]
     },
     "execution_count": 7,
     "metadata": {},
     "output_type": "execute_result"
    }
   ],
   "source": [
    "(4 > 6) == (7 >= 6)"
   ]
  },
  {
   "cell_type": "code",
   "execution_count": 1,
   "id": "ccbb7315-fcf4-4b11-8042-e4e2cb146797",
   "metadata": {},
   "outputs": [
    {
     "data": {
      "text/plain": [
       "True"
      ]
     },
     "execution_count": 1,
     "metadata": {},
     "output_type": "execute_result"
    }
   ],
   "source": [
    "(4 > 2) == (7 >= 6)"
   ]
  },
  {
   "cell_type": "markdown",
   "id": "ea6110a5-6dc6-4362-8609-78801f0d7a1e",
   "metadata": {},
   "source": [
    "# variables"
   ]
  },
  {
   "cell_type": "code",
   "execution_count": 10,
   "id": "5c1915d6-f19d-4a34-ae9f-bb9078dfc705",
   "metadata": {},
   "outputs": [],
   "source": [
    "x = (4+5*6)"
   ]
  },
  {
   "cell_type": "code",
   "execution_count": 11,
   "id": "87ad0730-e24c-4f79-9065-086728b22044",
   "metadata": {},
   "outputs": [
    {
     "data": {
      "text/plain": [
       "34"
      ]
     },
     "execution_count": 11,
     "metadata": {},
     "output_type": "execute_result"
    }
   ],
   "source": [
    "x"
   ]
  },
  {
   "cell_type": "code",
   "execution_count": 12,
   "id": "419d5622-1556-4d38-92e5-23d297869cd4",
   "metadata": {},
   "outputs": [
    {
     "data": {
      "text/plain": [
       "68"
      ]
     },
     "execution_count": 12,
     "metadata": {},
     "output_type": "execute_result"
    }
   ],
   "source": [
    "2 * x"
   ]
  },
  {
   "cell_type": "code",
   "execution_count": 13,
   "id": "a2dd4f87-4b66-4928-aba8-f23004834f32",
   "metadata": {},
   "outputs": [],
   "source": [
    "hello = x * 3"
   ]
  },
  {
   "cell_type": "code",
   "execution_count": 14,
   "id": "b31e375f-ca71-4158-9579-b0ecc7441a66",
   "metadata": {},
   "outputs": [
    {
     "data": {
      "text/plain": [
       "102"
      ]
     },
     "execution_count": 14,
     "metadata": {},
     "output_type": "execute_result"
    }
   ],
   "source": [
    "hello"
   ]
  },
  {
   "cell_type": "markdown",
   "id": "591aebd1-c1b2-4eb4-94f6-343b6c26815d",
   "metadata": {},
   "source": [
    "# Types"
   ]
  },
  {
   "cell_type": "code",
   "execution_count": 15,
   "id": "22e8c34a-38a6-4917-9219-032d9edcf89a",
   "metadata": {},
   "outputs": [
    {
     "data": {
      "text/plain": [
       "int"
      ]
     },
     "execution_count": 15,
     "metadata": {},
     "output_type": "execute_result"
    }
   ],
   "source": [
    "type(5)"
   ]
  },
  {
   "cell_type": "code",
   "execution_count": 16,
   "id": "c8f389dd-0491-4a3f-9127-26475adc6228",
   "metadata": {},
   "outputs": [
    {
     "data": {
      "text/plain": [
       "int"
      ]
     },
     "execution_count": 16,
     "metadata": {},
     "output_type": "execute_result"
    }
   ],
   "source": [
    "type (hello)"
   ]
  },
  {
   "cell_type": "code",
   "execution_count": 17,
   "id": "c5d89253-cb09-433a-aff2-a097dfdf0d5c",
   "metadata": {},
   "outputs": [
    {
     "data": {
      "text/plain": [
       "float"
      ]
     },
     "execution_count": 17,
     "metadata": {},
     "output_type": "execute_result"
    }
   ],
   "source": [
    "type (3.14)"
   ]
  },
  {
   "cell_type": "code",
   "execution_count": 19,
   "id": "574a5adf-6f74-4a9a-9a66-db333e2d9e6e",
   "metadata": {},
   "outputs": [
    {
     "data": {
      "text/plain": [
       "str"
      ]
     },
     "execution_count": 19,
     "metadata": {},
     "output_type": "execute_result"
    }
   ],
   "source": [
    "type (\"word\")"
   ]
  },
  {
   "cell_type": "code",
   "execution_count": 20,
   "id": "7f3806a6-52fb-4982-9a6e-6ace5c64859c",
   "metadata": {},
   "outputs": [
    {
     "data": {
      "text/plain": [
       "bool"
      ]
     },
     "execution_count": 20,
     "metadata": {},
     "output_type": "execute_result"
    }
   ],
   "source": [
    "type(12>3)"
   ]
  },
  {
   "cell_type": "code",
   "execution_count": 21,
   "id": "c0d55079-e666-443b-8ecb-1a37b50543ed",
   "metadata": {},
   "outputs": [
    {
     "data": {
      "text/plain": [
       "2"
      ]
     },
     "execution_count": 21,
     "metadata": {},
     "output_type": "execute_result"
    }
   ],
   "source": [
    "#this is a comment in code\n",
    "1 + 1"
   ]
  },
  {
   "cell_type": "code",
   "execution_count": 23,
   "id": "d7d2f2e7-e91b-44fb-82bb-27e831956503",
   "metadata": {},
   "outputs": [],
   "source": [
    "message = \"Hello, how are you?\""
   ]
  },
  {
   "cell_type": "code",
   "execution_count": 24,
   "id": "1ebeede0-b656-4bb4-92f3-951729eae412",
   "metadata": {},
   "outputs": [
    {
     "data": {
      "text/plain": [
       "'Hello, how are you?'"
      ]
     },
     "execution_count": 24,
     "metadata": {},
     "output_type": "execute_result"
    }
   ],
   "source": [
    "message"
   ]
  },
  {
   "cell_type": "code",
   "execution_count": 25,
   "id": "4d9431c8-bea3-4f19-bb80-15678813b6ea",
   "metadata": {},
   "outputs": [
    {
     "data": {
      "text/plain": [
       "'hellothere'"
      ]
     },
     "execution_count": 25,
     "metadata": {},
     "output_type": "execute_result"
    }
   ],
   "source": [
    "\"hello\" + \"there\""
   ]
  },
  {
   "cell_type": "code",
   "execution_count": 26,
   "id": "9147adbe-2f9f-47a9-98f1-7c6eb635caa6",
   "metadata": {},
   "outputs": [
    {
     "data": {
      "text/plain": [
       "'hohohohoho'"
      ]
     },
     "execution_count": 26,
     "metadata": {},
     "output_type": "execute_result"
    }
   ],
   "source": [
    "\"ho\" * 5"
   ]
  },
  {
   "cell_type": "code",
   "execution_count": 31,
   "id": "694d6df1-52d2-49c7-bea2-45ab4741cd62",
   "metadata": {},
   "outputs": [],
   "source": [
    "# escaping strings\n",
    "line = \"And then, \\\"I think that's cool, \\\" and bye.\""
   ]
  },
  {
   "cell_type": "code",
   "execution_count": 32,
   "id": "9492f224-2541-4f50-95c3-89fd736a29d8",
   "metadata": {},
   "outputs": [
    {
     "data": {
      "text/plain": [
       "'And then, \"I think that\\'s cool, \" and bye.'"
      ]
     },
     "execution_count": 32,
     "metadata": {},
     "output_type": "execute_result"
    }
   ],
   "source": [
    "line"
   ]
  },
  {
   "cell_type": "code",
   "execution_count": 34,
   "id": "77c7fafc-7938-49b9-ac81-9667b5b8e245",
   "metadata": {},
   "outputs": [],
   "source": [
    "line2 = 'And then, \"I think that\\'s cool,\" and bye.'"
   ]
  },
  {
   "cell_type": "code",
   "execution_count": 35,
   "id": "ff131254-ccdb-4188-80d7-817248097d1b",
   "metadata": {},
   "outputs": [
    {
     "data": {
      "text/plain": [
       "'And then, \"I think that\\'s cool,\" and bye.'"
      ]
     },
     "execution_count": 35,
     "metadata": {},
     "output_type": "execute_result"
    }
   ],
   "source": [
    "line2"
   ]
  },
  {
   "cell_type": "code",
   "execution_count": 36,
   "id": "3b848b53-6b79-4794-82a8-041451a7fcf5",
   "metadata": {},
   "outputs": [
    {
     "name": "stdout",
     "output_type": "stream",
     "text": [
      "And then, \"I think that's cool,\" and bye.\n"
     ]
    }
   ],
   "source": [
    "print(line2)"
   ]
  },
  {
   "cell_type": "code",
   "execution_count": 42,
   "id": "2a52fc37-ef3d-4e57-9933-d891fd00fb82",
   "metadata": {},
   "outputs": [],
   "source": [
    "poem = \"I think \\ntherefore I am\""
   ]
  },
  {
   "cell_type": "code",
   "execution_count": 43,
   "id": "e59b6f23-eadd-490b-986f-660e2f16fc8d",
   "metadata": {},
   "outputs": [
    {
     "data": {
      "text/plain": [
       "'I think \\ntherefore I am'"
      ]
     },
     "execution_count": 43,
     "metadata": {},
     "output_type": "execute_result"
    }
   ],
   "source": [
    "poem"
   ]
  },
  {
   "cell_type": "code",
   "execution_count": 44,
   "id": "2a9a3e6b-2944-45d1-90fd-1fd2e852b2c3",
   "metadata": {},
   "outputs": [
    {
     "name": "stdout",
     "output_type": "stream",
     "text": [
      "I think \n",
      "therefore I am\n"
     ]
    }
   ],
   "source": [
    "print(poem)"
   ]
  },
  {
   "cell_type": "code",
   "execution_count": 45,
   "id": "760f4b33-861a-4e86-8bc7-1e22555c71f2",
   "metadata": {},
   "outputs": [
    {
     "data": {
      "text/plain": [
       "64"
      ]
     },
     "execution_count": 45,
     "metadata": {},
     "output_type": "execute_result"
    }
   ],
   "source": [
    "int(\"64\")"
   ]
  },
  {
   "cell_type": "code",
   "execution_count": 46,
   "id": "118a2866-eecc-4284-9636-ccb5460ef071",
   "metadata": {},
   "outputs": [
    {
     "data": {
      "text/plain": [
       "'1122'"
      ]
     },
     "execution_count": 46,
     "metadata": {},
     "output_type": "execute_result"
    }
   ],
   "source": [
    "\"11\" + \"22\""
   ]
  },
  {
   "cell_type": "code",
   "execution_count": null,
   "id": "c1f38b66-17d1-4a7b-972a-deafaabbeac7",
   "metadata": {},
   "outputs": [],
   "source": [
    "    "
   ]
  }
 ],
 "metadata": {
  "kernelspec": {
   "display_name": "Python 3 (ipykernel)",
   "language": "python",
   "name": "python3"
  },
  "language_info": {
   "codemirror_mode": {
    "name": "ipython",
    "version": 3
   },
   "file_extension": ".py",
   "mimetype": "text/x-python",
   "name": "python",
   "nbconvert_exporter": "python",
   "pygments_lexer": "ipython3",
   "version": "3.12.3"
  }
 },
 "nbformat": 4,
 "nbformat_minor": 5
}
