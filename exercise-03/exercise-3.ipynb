{
 "cells": [
  {
   "cell_type": "markdown",
   "metadata": {},
   "source": [
    "# Exercise #3\n",
    "\n",
    "In this assignment, you'll exercise your SQL query skills.\n",
    "\n",
    "## The scenario\n",
    "\n",
    "In the year 20XX, I have won the lottery and decided to leave my programming days behind me in order to pursue my true calling as a [cat café](https://en.wikipedia.org/wiki/Cat_caf%C3%A9) tycoon. I've stored information about my cats and cafés in [this SQLite database](catcafes.db), which you should download and put in the same directory as this file.\n",
    "\n",
    "The following cell loads the JupySQL extension and the cat cafés database:"
   ]
  },
  {
   "cell_type": "code",
   "execution_count": 1,
   "metadata": {},
   "outputs": [
    {
     "data": {
      "text/html": [
       "<span style=\"None\">Connecting to &#x27;sqlite:///catcafes.db&#x27;</span>"
      ],
      "text/plain": [
       "Connecting to 'sqlite:///catcafes.db'"
      ]
     },
     "metadata": {},
     "output_type": "display_data"
    }
   ],
   "source": [
    "%load_ext sql\n",
    "%sql sqlite:///catcafes.db"
   ]
  },
  {
   "cell_type": "markdown",
   "metadata": {},
   "source": [
    "Because I'm focused on taking care of cats and scouting out new café locations, I need some help querying the database. And that's what you're going to do in this notebook! Let's take a look at the structure of the database.\n",
    "\n",
    "There are three tables:"
   ]
  },
  {
   "cell_type": "code",
   "execution_count": 2,
   "metadata": {},
   "outputs": [
    {
     "data": {
      "text/html": [
       "<table>\n",
       "    <thead>\n",
       "        <tr>\n",
       "            <th>Name</th>\n",
       "        </tr>\n",
       "    </thead>\n",
       "    <tbody>\n",
       "        <tr>\n",
       "            <td>cafe</td>\n",
       "        </tr>\n",
       "        <tr>\n",
       "            <td>cat</td>\n",
       "        </tr>\n",
       "        <tr>\n",
       "            <td>cat_cafe</td>\n",
       "        </tr>\n",
       "    </tbody>\n",
       "</table>"
      ],
      "text/plain": [
       "+----------+\n",
       "|   Name   |\n",
       "+----------+\n",
       "|   cafe   |\n",
       "|   cat    |\n",
       "| cat_cafe |\n",
       "+----------+"
      ]
     },
     "execution_count": 2,
     "metadata": {},
     "output_type": "execute_result"
    }
   ],
   "source": [
    "%sqlcmd tables"
   ]
  },
  {
   "cell_type": "markdown",
   "metadata": {},
   "source": [
    "The `cafe` table lists all of the cafés in my growing cat café empire. Each café has a name, a ZIP code, and a unique ID number:"
   ]
  },
  {
   "cell_type": "code",
   "execution_count": 81,
   "metadata": {},
   "outputs": [
    {
     "data": {
      "text/html": [
       "<table>\n",
       "    <thead>\n",
       "        <tr>\n",
       "            <th>name</th>\n",
       "            <th>type</th>\n",
       "            <th>nullable</th>\n",
       "            <th>default</th>\n",
       "            <th>primary_key</th>\n",
       "        </tr>\n",
       "    </thead>\n",
       "    <tbody>\n",
       "        <tr>\n",
       "            <td>id</td>\n",
       "            <td>INTEGER</td>\n",
       "            <td>True</td>\n",
       "            <td>None</td>\n",
       "            <td>1</td>\n",
       "        </tr>\n",
       "        <tr>\n",
       "            <td>name</td>\n",
       "            <td>VARCHAR(40)</td>\n",
       "            <td>True</td>\n",
       "            <td>None</td>\n",
       "            <td>0</td>\n",
       "        </tr>\n",
       "        <tr>\n",
       "            <td>zipcode</td>\n",
       "            <td>VARCHAR(5)</td>\n",
       "            <td>True</td>\n",
       "            <td>None</td>\n",
       "            <td>0</td>\n",
       "        </tr>\n",
       "    </tbody>\n",
       "</table>"
      ],
      "text/plain": [
       "+---------+-------------+----------+---------+-------------+\n",
       "|   name  |     type    | nullable | default | primary_key |\n",
       "+---------+-------------+----------+---------+-------------+\n",
       "|    id   |   INTEGER   |   True   |   None  |      1      |\n",
       "|   name  | VARCHAR(40) |   True   |   None  |      0      |\n",
       "| zipcode |  VARCHAR(5) |   True   |   None  |      0      |\n",
       "+---------+-------------+----------+---------+-------------+"
      ]
     },
     "execution_count": 81,
     "metadata": {},
     "output_type": "execute_result"
    }
   ],
   "source": [
    "%sqlcmd columns -t cafe"
   ]
  },
  {
   "cell_type": "markdown",
   "metadata": {},
   "source": [
    "The `cat` table contains information about every cat who currently lives in one of my cafés. Each cat has a unique ID, a name, its weight in pounds, its fur color, and the pattern of the fur. If you're interested, [read more on the interesting topic of cat coat genetics](https://en.wikipedia.org/wiki/Cat_coat_genetics)."
   ]
  },
  {
   "cell_type": "code",
   "execution_count": 3,
   "metadata": {},
   "outputs": [
    {
     "data": {
      "text/html": [
       "<table>\n",
       "    <thead>\n",
       "        <tr>\n",
       "            <th>name</th>\n",
       "            <th>type</th>\n",
       "            <th>nullable</th>\n",
       "            <th>default</th>\n",
       "            <th>primary_key</th>\n",
       "        </tr>\n",
       "    </thead>\n",
       "    <tbody>\n",
       "        <tr>\n",
       "            <td>id</td>\n",
       "            <td>INTEGER</td>\n",
       "            <td>True</td>\n",
       "            <td>None</td>\n",
       "            <td>1</td>\n",
       "        </tr>\n",
       "        <tr>\n",
       "            <td>name</td>\n",
       "            <td>VARCHAR(40)</td>\n",
       "            <td>True</td>\n",
       "            <td>None</td>\n",
       "            <td>0</td>\n",
       "        </tr>\n",
       "        <tr>\n",
       "            <td>weight</td>\n",
       "            <td>NUMERIC(10, 2)</td>\n",
       "            <td>True</td>\n",
       "            <td>None</td>\n",
       "            <td>0</td>\n",
       "        </tr>\n",
       "        <tr>\n",
       "            <td>color</td>\n",
       "            <td>VARCHAR(40)</td>\n",
       "            <td>True</td>\n",
       "            <td>None</td>\n",
       "            <td>0</td>\n",
       "        </tr>\n",
       "        <tr>\n",
       "            <td>pattern</td>\n",
       "            <td>VARCHAR(40)</td>\n",
       "            <td>True</td>\n",
       "            <td>None</td>\n",
       "            <td>0</td>\n",
       "        </tr>\n",
       "    </tbody>\n",
       "</table>"
      ],
      "text/plain": [
       "+---------+----------------+----------+---------+-------------+\n",
       "|   name  |      type      | nullable | default | primary_key |\n",
       "+---------+----------------+----------+---------+-------------+\n",
       "|    id   |    INTEGER     |   True   |   None  |      1      |\n",
       "|   name  |  VARCHAR(40)   |   True   |   None  |      0      |\n",
       "|  weight | NUMERIC(10, 2) |   True   |   None  |      0      |\n",
       "|  color  |  VARCHAR(40)   |   True   |   None  |      0      |\n",
       "| pattern |  VARCHAR(40)   |   True   |   None  |      0      |\n",
       "+---------+----------------+----------+---------+-------------+"
      ]
     },
     "execution_count": 3,
     "metadata": {},
     "output_type": "execute_result"
    }
   ],
   "source": [
    "%sqlcmd columns -t cat"
   ]
  },
  {
   "cell_type": "markdown",
   "metadata": {},
   "source": [
    "Finally, there is a linking table called `cat_cafe` which associates cats to cafés. Each café has a number of cats, and some cats are moved regularly between locations. Thus there is a many-to-many relationship between cats and cafés. The `active` field indicates the cat's current location."
   ]
  },
  {
   "cell_type": "code",
   "execution_count": 4,
   "metadata": {},
   "outputs": [
    {
     "data": {
      "text/html": [
       "<table>\n",
       "    <thead>\n",
       "        <tr>\n",
       "            <th>name</th>\n",
       "            <th>type</th>\n",
       "            <th>nullable</th>\n",
       "            <th>default</th>\n",
       "            <th>primary_key</th>\n",
       "        </tr>\n",
       "    </thead>\n",
       "    <tbody>\n",
       "        <tr>\n",
       "            <td>cat_id</td>\n",
       "            <td>INTEGER</td>\n",
       "            <td>True</td>\n",
       "            <td>None</td>\n",
       "            <td>0</td>\n",
       "        </tr>\n",
       "        <tr>\n",
       "            <td>cafe_id</td>\n",
       "            <td>INTEGER</td>\n",
       "            <td>True</td>\n",
       "            <td>None</td>\n",
       "            <td>0</td>\n",
       "        </tr>\n",
       "        <tr>\n",
       "            <td>active</td>\n",
       "            <td>BOOLEAN</td>\n",
       "            <td>True</td>\n",
       "            <td>None</td>\n",
       "            <td>0</td>\n",
       "        </tr>\n",
       "    </tbody>\n",
       "</table>"
      ],
      "text/plain": [
       "+---------+---------+----------+---------+-------------+\n",
       "|   name  |   type  | nullable | default | primary_key |\n",
       "+---------+---------+----------+---------+-------------+\n",
       "|  cat_id | INTEGER |   True   |   None  |      0      |\n",
       "| cafe_id | INTEGER |   True   |   None  |      0      |\n",
       "|  active | BOOLEAN |   True   |   None  |      0      |\n",
       "+---------+---------+----------+---------+-------------+"
      ]
     },
     "execution_count": 4,
     "metadata": {},
     "output_type": "execute_result"
    }
   ],
   "source": [
    "%sqlcmd columns -t cat_cafe"
   ]
  },
  {
   "cell_type": "markdown",
   "metadata": {},
   "source": [
    "Thank you for helping out!"
   ]
  },
  {
   "cell_type": "markdown",
   "metadata": {},
   "source": [
    "## Task 1: Columns and equals\n",
    "\n",
    "Modify the query below so that the query returns the names of all tabby cats.\n",
    "\n",
    "Expected output:\n",
    "\n",
    "|    name   |\n",
    "| --------- |\n",
    "|  Georges  |\n",
    "|  Scaredy  |\n",
    "| Charlotte |\n",
    "|   Minka   |\n",
    "|   Carlos  |\n",
    "|   Chanel  |\n",
    "|    Jiji   |\n"
   ]
  },
  {
   "cell_type": "code",
   "execution_count": 5,
   "metadata": {},
   "outputs": [
    {
     "data": {
      "text/html": [
       "<span style=\"None\">Running query in &#x27;sqlite:///catcafes.db&#x27;</span>"
      ],
      "text/plain": [
       "Running query in 'sqlite:///catcafes.db'"
      ]
     },
     "metadata": {},
     "output_type": "display_data"
    },
    {
     "data": {
      "text/html": [
       "<table>\n",
       "    <thead>\n",
       "        <tr>\n",
       "            <th>id</th>\n",
       "            <th>name</th>\n",
       "            <th>weight</th>\n",
       "            <th>color</th>\n",
       "            <th>pattern</th>\n",
       "        </tr>\n",
       "    </thead>\n",
       "    <tbody>\n",
       "        <tr>\n",
       "            <td>1</td>\n",
       "            <td>Sylvester</td>\n",
       "            <td>10.46</td>\n",
       "            <td>black</td>\n",
       "            <td>colorpoint</td>\n",
       "        </tr>\n",
       "        <tr>\n",
       "            <td>2</td>\n",
       "            <td>Jasper</td>\n",
       "            <td>8.06</td>\n",
       "            <td>cinnamon</td>\n",
       "            <td>solid</td>\n",
       "        </tr>\n",
       "        <tr>\n",
       "            <td>3</td>\n",
       "            <td>Luna</td>\n",
       "            <td>10.88</td>\n",
       "            <td>brown</td>\n",
       "            <td>tortoiseshell</td>\n",
       "        </tr>\n",
       "        <tr>\n",
       "            <td>4</td>\n",
       "            <td>Georges</td>\n",
       "            <td>9.4</td>\n",
       "            <td>white</td>\n",
       "            <td>tabby</td>\n",
       "        </tr>\n",
       "        <tr>\n",
       "            <td>5</td>\n",
       "            <td>Millie</td>\n",
       "            <td>9.27</td>\n",
       "            <td>red</td>\n",
       "            <td>bicolor</td>\n",
       "        </tr>\n",
       "        <tr>\n",
       "            <td>6</td>\n",
       "            <td>Lisa</td>\n",
       "            <td>8.84</td>\n",
       "            <td>cream</td>\n",
       "            <td>colorpoint</td>\n",
       "        </tr>\n",
       "        <tr>\n",
       "            <td>7</td>\n",
       "            <td>Oscar</td>\n",
       "            <td>8.44</td>\n",
       "            <td>cream</td>\n",
       "            <td>solid</td>\n",
       "        </tr>\n",
       "        <tr>\n",
       "            <td>8</td>\n",
       "            <td>Scaredy</td>\n",
       "            <td>8.83</td>\n",
       "            <td>lilac</td>\n",
       "            <td>tabby</td>\n",
       "        </tr>\n",
       "        <tr>\n",
       "            <td>9</td>\n",
       "            <td>Charlotte</td>\n",
       "            <td>9.54</td>\n",
       "            <td>blue</td>\n",
       "            <td>tabby</td>\n",
       "        </tr>\n",
       "        <tr>\n",
       "            <td>10</td>\n",
       "            <td>Whiskers</td>\n",
       "            <td>9.47</td>\n",
       "            <td>white</td>\n",
       "            <td>colorpoint</td>\n",
       "        </tr>\n",
       "    </tbody>\n",
       "</table>\n",
       "<span style=\"font-style:italic;text-align:center;\">Truncated to <a href=\"https://jupysql.ploomber.io/en/latest/api/configuration.html#displaylimit\">displaylimit</a> of 10.</span>"
      ],
      "text/plain": [
       "+----+-----------+--------+----------+---------------+\n",
       "| id |    name   | weight |  color   |    pattern    |\n",
       "+----+-----------+--------+----------+---------------+\n",
       "| 1  | Sylvester | 10.46  |  black   |   colorpoint  |\n",
       "| 2  |   Jasper  |  8.06  | cinnamon |     solid     |\n",
       "| 3  |    Luna   | 10.88  |  brown   | tortoiseshell |\n",
       "| 4  |  Georges  |  9.4   |  white   |     tabby     |\n",
       "| 5  |   Millie  |  9.27  |   red    |    bicolor    |\n",
       "| 6  |    Lisa   |  8.84  |  cream   |   colorpoint  |\n",
       "| 7  |   Oscar   |  8.44  |  cream   |     solid     |\n",
       "| 8  |  Scaredy  |  8.83  |  lilac   |     tabby     |\n",
       "| 9  | Charlotte |  9.54  |   blue   |     tabby     |\n",
       "| 10 |  Whiskers |  9.47  |  white   |   colorpoint  |\n",
       "+----+-----------+--------+----------+---------------+\n",
       "Truncated to displaylimit of 10."
      ]
     },
     "execution_count": 5,
     "metadata": {},
     "output_type": "execute_result"
    }
   ],
   "source": [
    "%%sql\n",
    "SELECT *\n",
    "FROM cat"
   ]
  },
  {
   "cell_type": "code",
   "execution_count": 6,
   "metadata": {},
   "outputs": [
    {
     "data": {
      "text/html": [
       "<span style=\"None\">Running query in &#x27;sqlite:///catcafes.db&#x27;</span>"
      ],
      "text/plain": [
       "Running query in 'sqlite:///catcafes.db'"
      ]
     },
     "metadata": {},
     "output_type": "display_data"
    },
    {
     "data": {
      "text/html": [
       "<table>\n",
       "    <thead>\n",
       "        <tr>\n",
       "            <th>name</th>\n",
       "        </tr>\n",
       "    </thead>\n",
       "    <tbody>\n",
       "        <tr>\n",
       "            <td>Georges</td>\n",
       "        </tr>\n",
       "        <tr>\n",
       "            <td>Scaredy</td>\n",
       "        </tr>\n",
       "        <tr>\n",
       "            <td>Charlotte</td>\n",
       "        </tr>\n",
       "        <tr>\n",
       "            <td>Minka</td>\n",
       "        </tr>\n",
       "        <tr>\n",
       "            <td>Carlos</td>\n",
       "        </tr>\n",
       "        <tr>\n",
       "            <td>Chanel</td>\n",
       "        </tr>\n",
       "        <tr>\n",
       "            <td>Jiji</td>\n",
       "        </tr>\n",
       "    </tbody>\n",
       "</table>"
      ],
      "text/plain": [
       "+-----------+\n",
       "|    name   |\n",
       "+-----------+\n",
       "|  Georges  |\n",
       "|  Scaredy  |\n",
       "| Charlotte |\n",
       "|   Minka   |\n",
       "|   Carlos  |\n",
       "|   Chanel  |\n",
       "|    Jiji   |\n",
       "+-----------+"
      ]
     },
     "execution_count": 6,
     "metadata": {},
     "output_type": "execute_result"
    }
   ],
   "source": [
    "%%sql\n",
    "SELECT name\n",
    "FROM cat\n",
    "WHERE pattern = 'tabby'"
   ]
  },
  {
   "cell_type": "markdown",
   "metadata": {},
   "source": [
    "## Task 2: Order and limits\n",
    "\n",
    "Modify the query below so that it returns the name and zipcode of the cafe whose name comes last in alphabetical order.\n",
    "\n",
    "Expected output:\n",
    "\n",
    "|    name    | zipcode |\n",
    "|:----------:|:-------:|\n",
    "| Tall Tails |  11222  |"
   ]
  },
  {
   "cell_type": "code",
   "execution_count": 7,
   "metadata": {},
   "outputs": [
    {
     "data": {
      "text/html": [
       "<span style=\"None\">Running query in &#x27;sqlite:///catcafes.db&#x27;</span>"
      ],
      "text/plain": [
       "Running query in 'sqlite:///catcafes.db'"
      ]
     },
     "metadata": {},
     "output_type": "display_data"
    },
    {
     "data": {
      "text/html": [
       "<table>\n",
       "    <thead>\n",
       "        <tr>\n",
       "            <th>name</th>\n",
       "            <th>zipcode</th>\n",
       "        </tr>\n",
       "    </thead>\n",
       "    <tbody>\n",
       "        <tr>\n",
       "            <td>Tall Tails</td>\n",
       "            <td>11222</td>\n",
       "        </tr>\n",
       "    </tbody>\n",
       "</table>"
      ],
      "text/plain": [
       "+------------+---------+\n",
       "|    name    | zipcode |\n",
       "+------------+---------+\n",
       "| Tall Tails |  11222  |\n",
       "+------------+---------+"
      ]
     },
     "execution_count": 7,
     "metadata": {},
     "output_type": "execute_result"
    }
   ],
   "source": [
    "%%sql\n",
    "SELECT name, zipcode\n",
    "FROM cafe\n",
    "ORDER BY name DESC\n",
    "LIMIT 1"
   ]
  },
  {
   "cell_type": "markdown",
   "metadata": {},
   "source": [
    "## Task 3: Inequality expressions\n",
    "\n",
    "Modify the query below so that it returns the names of all cats whose coloring is either white or black, and who weight more than 9 lbs, listed in alphabetical order by name.\n",
    "\n",
    "Expected output:\n",
    "\n",
    "|    name   |\n",
    "| --------- |\n",
    "|   Charly  |\n",
    "|  Georges  |\n",
    "|    Jack   |\n",
    "|    Jiji   |\n",
    "| Lafayette |\n",
    "|    Mimi   |\n",
    "| Sylvester |\n",
    "|  Whiskers |\n"
   ]
  },
  {
   "cell_type": "code",
   "execution_count": 8,
   "metadata": {},
   "outputs": [
    {
     "data": {
      "text/html": [
       "<span style=\"None\">Running query in &#x27;sqlite:///catcafes.db&#x27;</span>"
      ],
      "text/plain": [
       "Running query in 'sqlite:///catcafes.db'"
      ]
     },
     "metadata": {},
     "output_type": "display_data"
    },
    {
     "data": {
      "text/html": [
       "<table>\n",
       "    <thead>\n",
       "        <tr>\n",
       "            <th>name</th>\n",
       "        </tr>\n",
       "    </thead>\n",
       "    <tbody>\n",
       "        <tr>\n",
       "            <td>Charly</td>\n",
       "        </tr>\n",
       "        <tr>\n",
       "            <td>Georges</td>\n",
       "        </tr>\n",
       "        <tr>\n",
       "            <td>Jack</td>\n",
       "        </tr>\n",
       "        <tr>\n",
       "            <td>Jiji</td>\n",
       "        </tr>\n",
       "        <tr>\n",
       "            <td>Lafayette</td>\n",
       "        </tr>\n",
       "        <tr>\n",
       "            <td>Mimi</td>\n",
       "        </tr>\n",
       "        <tr>\n",
       "            <td>Sylvester</td>\n",
       "        </tr>\n",
       "        <tr>\n",
       "            <td>Whiskers</td>\n",
       "        </tr>\n",
       "    </tbody>\n",
       "</table>"
      ],
      "text/plain": [
       "+-----------+\n",
       "|    name   |\n",
       "+-----------+\n",
       "|   Charly  |\n",
       "|  Georges  |\n",
       "|    Jack   |\n",
       "|    Jiji   |\n",
       "| Lafayette |\n",
       "|    Mimi   |\n",
       "| Sylvester |\n",
       "|  Whiskers |\n",
       "+-----------+"
      ]
     },
     "execution_count": 8,
     "metadata": {},
     "output_type": "execute_result"
    }
   ],
   "source": [
    "%%sql\n",
    "SELECT name\n",
    "FROM cat\n",
    "WHERE weight > 9 AND (color=\"black\" OR color=\"white\")\n",
    "ORDER BY name"
   ]
  },
  {
   "cell_type": "markdown",
   "metadata": {},
   "source": [
    "## Task 4: Aggregation and grouping\n",
    "\n",
    "Modify the SQL statement below so that it returns a list of cat colors along with the weight of the heaviest cat having that color. Only show colors whose heaviest cat weighs more than 10.5 lbs.\n",
    "\n",
    "Expected output:\n",
    "\n",
    "|  color   | max(weight) |\n",
    "| -------- | ----------- |\n",
    "|  brown   |    10.88    |\n",
    "| cinnamon |    11.37    |\n",
    "|  lilac   |    10.76    |\n",
    "|   red    |      12     |\n"
   ]
  },
  {
   "cell_type": "code",
   "execution_count": 10,
   "metadata": {},
   "outputs": [
    {
     "data": {
      "text/html": [
       "<span style=\"None\">Running query in &#x27;sqlite:///catcafes.db&#x27;</span>"
      ],
      "text/plain": [
       "Running query in 'sqlite:///catcafes.db'"
      ]
     },
     "metadata": {},
     "output_type": "display_data"
    },
    {
     "data": {
      "text/html": [
       "<table>\n",
       "    <thead>\n",
       "        <tr>\n",
       "            <th>color</th>\n",
       "            <th>max(weight)</th>\n",
       "        </tr>\n",
       "    </thead>\n",
       "    <tbody>\n",
       "        <tr>\n",
       "            <td>brown</td>\n",
       "            <td>10.88</td>\n",
       "        </tr>\n",
       "        <tr>\n",
       "            <td>cinnamon</td>\n",
       "            <td>11.37</td>\n",
       "        </tr>\n",
       "        <tr>\n",
       "            <td>lilac</td>\n",
       "            <td>10.76</td>\n",
       "        </tr>\n",
       "        <tr>\n",
       "            <td>red</td>\n",
       "            <td>12</td>\n",
       "        </tr>\n",
       "    </tbody>\n",
       "</table>"
      ],
      "text/plain": [
       "+----------+-------------+\n",
       "|  color   | max(weight) |\n",
       "+----------+-------------+\n",
       "|  brown   |    10.88    |\n",
       "| cinnamon |    11.37    |\n",
       "|  lilac   |    10.76    |\n",
       "|   red    |      12     |\n",
       "+----------+-------------+"
      ]
     },
     "execution_count": 10,
     "metadata": {},
     "output_type": "execute_result"
    }
   ],
   "source": [
    "%%sql\n",
    "SELECT color, max(weight)\n",
    "FROM cat\n",
    "GROUP BY color\n",
    "HAVING max(weight) > 10.5"
   ]
  },
  {
   "cell_type": "markdown",
   "metadata": {},
   "source": [
    "## Task 5: Joins, part 1\n",
    "\n",
    "Modify the query below so that it shows the name of every tortoiseshell cat along with the `id` field of the café where the cat can currently be found (i.e., the `active` field is true).\n",
    "\n",
    "Expected output:\n",
    "\n",
    "|    name   | cafe_id |\n",
    "| --------- | ------- |\n",
    "|    Luna   |    2    |\n",
    "|   Angel   |    4    |\n",
    "|   Moritz  |    2    |\n",
    "|  O'Malley |    3    |\n",
    "| Lafayette |    5    |"
   ]
  },
  {
   "cell_type": "code",
   "execution_count": 17,
   "metadata": {},
   "outputs": [
    {
     "data": {
      "text/html": [
       "<span style=\"None\">Running query in &#x27;sqlite:///catcafes.db&#x27;</span>"
      ],
      "text/plain": [
       "Running query in 'sqlite:///catcafes.db'"
      ]
     },
     "metadata": {},
     "output_type": "display_data"
    },
    {
     "data": {
      "text/html": [
       "<table>\n",
       "    <thead>\n",
       "        <tr>\n",
       "            <th>name</th>\n",
       "            <th>cafe_id</th>\n",
       "        </tr>\n",
       "    </thead>\n",
       "    <tbody>\n",
       "        <tr>\n",
       "            <td>Luna</td>\n",
       "            <td>2</td>\n",
       "        </tr>\n",
       "        <tr>\n",
       "            <td>Angel</td>\n",
       "            <td>4</td>\n",
       "        </tr>\n",
       "        <tr>\n",
       "            <td>Moritz</td>\n",
       "            <td>2</td>\n",
       "        </tr>\n",
       "        <tr>\n",
       "            <td>O'Malley</td>\n",
       "            <td>3</td>\n",
       "        </tr>\n",
       "        <tr>\n",
       "            <td>Lafayette</td>\n",
       "            <td>5</td>\n",
       "        </tr>\n",
       "    </tbody>\n",
       "</table>"
      ],
      "text/plain": [
       "+-----------+---------+\n",
       "|    name   | cafe_id |\n",
       "+-----------+---------+\n",
       "|    Luna   |    2    |\n",
       "|   Angel   |    4    |\n",
       "|   Moritz  |    2    |\n",
       "|  O'Malley |    3    |\n",
       "| Lafayette |    5    |\n",
       "+-----------+---------+"
      ]
     },
     "execution_count": 17,
     "metadata": {},
     "output_type": "execute_result"
    }
   ],
   "source": [
    "%%sql\n",
    "SELECT cat.name, cat_cafe.cafe_id\n",
    "FROM cat\n",
    "JOIN cat_cafe ON cat_cafe.cat_id = cat.id\n",
    "WHERE cat.pattern = 'tortoiseshell' AND cat_cafe.active = true"
   ]
  },
  {
   "cell_type": "markdown",
   "metadata": {},
   "source": [
    "## Task 6: Joins, part 2\n",
    "\n",
    "The following query is just like the one above, except it shows the name of the café instead of its ID. Add the additional `JOIN` to make the query work.\n",
    "\n",
    "Expected output:\n",
    "\n",
    "|    name   |       name_1      |\n",
    "| --------- | ----------------- |\n",
    "|    Luna   | Independent Claws |\n",
    "|   Angel   |     Tall Tails    |\n",
    "|   Moritz  | Independent Claws |\n",
    "|  O'Malley |   Paws and Play   |\n",
    "| Lafayette |     Cats Meow     |"
   ]
  },
  {
   "cell_type": "code",
   "execution_count": 25,
   "metadata": {},
   "outputs": [
    {
     "data": {
      "text/html": [
       "<span style=\"None\">Running query in &#x27;sqlite:///catcafes.db&#x27;</span>"
      ],
      "text/plain": [
       "Running query in 'sqlite:///catcafes.db'"
      ]
     },
     "metadata": {},
     "output_type": "display_data"
    },
    {
     "data": {
      "text/html": [
       "<table>\n",
       "    <thead>\n",
       "        <tr>\n",
       "            <th>name</th>\n",
       "            <th>name_1</th>\n",
       "        </tr>\n",
       "    </thead>\n",
       "    <tbody>\n",
       "        <tr>\n",
       "            <td>Luna</td>\n",
       "            <td>Independent Claws</td>\n",
       "        </tr>\n",
       "        <tr>\n",
       "            <td>Angel</td>\n",
       "            <td>Tall Tails</td>\n",
       "        </tr>\n",
       "        <tr>\n",
       "            <td>Moritz</td>\n",
       "            <td>Independent Claws</td>\n",
       "        </tr>\n",
       "        <tr>\n",
       "            <td>O'Malley</td>\n",
       "            <td>Paws and Play</td>\n",
       "        </tr>\n",
       "        <tr>\n",
       "            <td>Lafayette</td>\n",
       "            <td>Cats Meow</td>\n",
       "        </tr>\n",
       "    </tbody>\n",
       "</table>"
      ],
      "text/plain": [
       "+-----------+-------------------+\n",
       "|    name   |       name_1      |\n",
       "+-----------+-------------------+\n",
       "|    Luna   | Independent Claws |\n",
       "|   Angel   |     Tall Tails    |\n",
       "|   Moritz  | Independent Claws |\n",
       "|  O'Malley |   Paws and Play   |\n",
       "| Lafayette |     Cats Meow     |\n",
       "+-----------+-------------------+"
      ]
     },
     "execution_count": 25,
     "metadata": {},
     "output_type": "execute_result"
    }
   ],
   "source": [
    "%%sql\n",
    "SELECT cat.name, cafe.name\n",
    "FROM cat\n",
    "JOIN cat_cafe ON cat_cafe.cat_id = cat.id\n",
    "JOIN cafe ON cafe.id = cat_cafe.cafe_id\n",
    "WHERE cat.pattern = 'tortoiseshell' AND cat_cafe.active = true"
   ]
  },
  {
   "cell_type": "markdown",
   "metadata": {},
   "source": [
    "## Task 7: Joins with DISTINCT\n",
    "\n",
    "Quick, I need to know which zip codes have lilac tabby cats! Fix the query below to give me this information.\n",
    "\n",
    "Expected output:\n",
    "\n",
    "| zipcode |\n",
    "| ------- |\n",
    "|  11215  |\n",
    "|  11237  |"
   ]
  },
  {
   "cell_type": "code",
   "execution_count": 29,
   "metadata": {},
   "outputs": [
    {
     "data": {
      "text/html": [
       "<span style=\"None\">Running query in &#x27;sqlite:///catcafes.db&#x27;</span>"
      ],
      "text/plain": [
       "Running query in 'sqlite:///catcafes.db'"
      ]
     },
     "metadata": {},
     "output_type": "display_data"
    },
    {
     "data": {
      "text/html": [
       "<table>\n",
       "    <thead>\n",
       "        <tr>\n",
       "            <th>zipcode</th>\n",
       "        </tr>\n",
       "    </thead>\n",
       "    <tbody>\n",
       "        <tr>\n",
       "            <td>11215</td>\n",
       "        </tr>\n",
       "        <tr>\n",
       "            <td>11237</td>\n",
       "        </tr>\n",
       "    </tbody>\n",
       "</table>"
      ],
      "text/plain": [
       "+---------+\n",
       "| zipcode |\n",
       "+---------+\n",
       "|  11215  |\n",
       "|  11237  |\n",
       "+---------+"
      ]
     },
     "execution_count": 29,
     "metadata": {},
     "output_type": "execute_result"
    }
   ],
   "source": [
    "%%sql\n",
    "SELECT DISTINCT(cafe.zipcode)\n",
    "FROM cat\n",
    "JOIN cat_cafe ON cat.id = cat_cafe.cat_id\n",
    "JOIN cafe ON cat_cafe.cafe_id = cafe.id\n",
    "WHERE cat.color = 'lilac' AND cat.pattern = 'tabby' AND cat_cafe.active = true"
   ]
  },
  {
   "cell_type": "markdown",
   "metadata": {},
   "source": [
    "## Task 8 (advanced): Joins with aggregation\n",
    "\n",
    "Okay, time to take off the training wheels. Modify the query below so that it returns the name of each café along with the average weight of all of the cats at that location.\n",
    "\n",
    "Expected output:\n",
    "\n",
    "|        name       |  avg(cat.weight)  |\n",
    "| ----------------- | ----------------- |\n",
    "|     Cats Meow     | 9.754999999999999 |\n",
    "|   Hang In There   | 9.254285714285714 |\n",
    "| Independent Claws | 9.334545454545456 |\n",
    "|   Paws and Play   | 9.284545454545453 |\n",
    "|     Tall Tails    | 9.817142857142857 |"
   ]
  },
  {
   "cell_type": "code",
   "execution_count": 34,
   "metadata": {},
   "outputs": [
    {
     "data": {
      "text/html": [
       "<span style=\"None\">Running query in &#x27;sqlite:///catcafes.db&#x27;</span>"
      ],
      "text/plain": [
       "Running query in 'sqlite:///catcafes.db'"
      ]
     },
     "metadata": {},
     "output_type": "display_data"
    },
    {
     "data": {
      "text/html": [
       "<table>\n",
       "    <thead>\n",
       "        <tr>\n",
       "            <th>name</th>\n",
       "            <th>avg(cat.weight)</th>\n",
       "        </tr>\n",
       "    </thead>\n",
       "    <tbody>\n",
       "        <tr>\n",
       "            <td>Cats Meow</td>\n",
       "            <td>9.754999999999999</td>\n",
       "        </tr>\n",
       "        <tr>\n",
       "            <td>Hang In There</td>\n",
       "            <td>9.254285714285714</td>\n",
       "        </tr>\n",
       "        <tr>\n",
       "            <td>Independent Claws</td>\n",
       "            <td>9.334545454545456</td>\n",
       "        </tr>\n",
       "        <tr>\n",
       "            <td>Paws and Play</td>\n",
       "            <td>9.284545454545453</td>\n",
       "        </tr>\n",
       "        <tr>\n",
       "            <td>Tall Tails</td>\n",
       "            <td>9.817142857142857</td>\n",
       "        </tr>\n",
       "    </tbody>\n",
       "</table>"
      ],
      "text/plain": [
       "+-------------------+-------------------+\n",
       "|        name       |  avg(cat.weight)  |\n",
       "+-------------------+-------------------+\n",
       "|     Cats Meow     | 9.754999999999999 |\n",
       "|   Hang In There   | 9.254285714285714 |\n",
       "| Independent Claws | 9.334545454545456 |\n",
       "|   Paws and Play   | 9.284545454545453 |\n",
       "|     Tall Tails    | 9.817142857142857 |\n",
       "+-------------------+-------------------+"
      ]
     },
     "execution_count": 34,
     "metadata": {},
     "output_type": "execute_result"
    }
   ],
   "source": [
    "%%sql\n",
    "SELECT cafe.name, avg(cat.weight)\n",
    "FROM cat\n",
    "JOIN cat_cafe ON cat.id = cat_cafe.cat_id\n",
    "JOIN cafe ON cafe.id = cat_cafe.cafe_id\n",
    "WHERE cat_cafe.active = true\n",
    "GROUP BY cafe.name"
   ]
  },
  {
   "cell_type": "markdown",
   "metadata": {},
   "source": [
    "## Task 9 (advanced): Joins with order and limit\n",
    "\n",
    "Write a query below that returns the name of the café with the most tortoiseshell cats, along with the number of tortoiseshell cats at that location.\n",
    "\n",
    "Expected output:\n",
    "\n",
    "|        name       | count(cat.name) |\n",
    "| ----------------- | --------------- |\n",
    "| Independent Claws |        2        |"
   ]
  },
  {
   "cell_type": "code",
   "execution_count": 43,
   "metadata": {},
   "outputs": [
    {
     "data": {
      "text/html": [
       "<span style=\"None\">Running query in &#x27;sqlite:///catcafes.db&#x27;</span>"
      ],
      "text/plain": [
       "Running query in 'sqlite:///catcafes.db'"
      ]
     },
     "metadata": {},
     "output_type": "display_data"
    },
    {
     "data": {
      "text/html": [
       "<table>\n",
       "    <thead>\n",
       "        <tr>\n",
       "            <th>name</th>\n",
       "            <th>count(cat.id)</th>\n",
       "        </tr>\n",
       "    </thead>\n",
       "    <tbody>\n",
       "        <tr>\n",
       "            <td>Independent Claws</td>\n",
       "            <td>2</td>\n",
       "        </tr>\n",
       "    </tbody>\n",
       "</table>"
      ],
      "text/plain": [
       "+-------------------+---------------+\n",
       "|        name       | count(cat.id) |\n",
       "+-------------------+---------------+\n",
       "| Independent Claws |       2       |\n",
       "+-------------------+---------------+"
      ]
     },
     "execution_count": 43,
     "metadata": {},
     "output_type": "execute_result"
    }
   ],
   "source": [
    "%%sql\n",
    "SELECT cafe.name, count(cat.id)\n",
    "FROM cat\n",
    "JOIN cat_cafe ON cat.id = cat_cafe.cat_id\n",
    "JOIN cafe ON cafe.id = cat_cafe.cafe_id\n",
    "WHERE cat.pattern = \"tortoiseshell\" AND cat_cafe.active = true\n",
    "GROUP BY cafe.name\n",
    "ORDER BY count(cat.id) DESC\n",
    "LIMIT 1"
   ]
  },
  {
   "cell_type": "markdown",
   "metadata": {},
   "source": [
    "## Task 10 (advanced): Pandas integration\n",
    "\n",
    "Write code in the cell below to show a histogram of cat weights with eight bins. Do this by assigning the result of the query to a variable and fetching the Pandas dataframe.\n",
    "\n",
    "Expected output:\n",
    "\n",
    "<img src=\"data:image/png;base64,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\">"
   ]
  },
  {
   "cell_type": "code",
   "execution_count": 66,
   "metadata": {},
   "outputs": [],
   "source": [
    "%matplotlib inline \n",
    "import pandas as pd\n",
    "import numpy as np\n",
    "import matplotlib.pyplot as plt"
   ]
  },
  {
   "cell_type": "code",
   "execution_count": 60,
   "metadata": {},
   "outputs": [
    {
     "data": {
      "text/html": [
       "<span style=\"None\">Running query in &#x27;sqlite:///catcafes.db&#x27;</span>"
      ],
      "text/plain": [
       "Running query in 'sqlite:///catcafes.db'"
      ]
     },
     "metadata": {},
     "output_type": "display_data"
    }
   ],
   "source": [
    "result = %sql SELECT weight FROM cat"
   ]
  },
  {
   "cell_type": "code",
   "execution_count": 61,
   "metadata": {},
   "outputs": [
    {
     "data": {
      "text/html": [
       "<table>\n",
       "    <thead>\n",
       "        <tr>\n",
       "            <th>weight</th>\n",
       "        </tr>\n",
       "    </thead>\n",
       "    <tbody>\n",
       "        <tr>\n",
       "            <td>10.46</td>\n",
       "        </tr>\n",
       "        <tr>\n",
       "            <td>8.06</td>\n",
       "        </tr>\n",
       "        <tr>\n",
       "            <td>10.88</td>\n",
       "        </tr>\n",
       "        <tr>\n",
       "            <td>9.4</td>\n",
       "        </tr>\n",
       "        <tr>\n",
       "            <td>9.27</td>\n",
       "        </tr>\n",
       "        <tr>\n",
       "            <td>8.84</td>\n",
       "        </tr>\n",
       "        <tr>\n",
       "            <td>8.44</td>\n",
       "        </tr>\n",
       "        <tr>\n",
       "            <td>8.83</td>\n",
       "        </tr>\n",
       "        <tr>\n",
       "            <td>9.54</td>\n",
       "        </tr>\n",
       "        <tr>\n",
       "            <td>9.47</td>\n",
       "        </tr>\n",
       "    </tbody>\n",
       "</table>\n",
       "<span style=\"font-style:italic;text-align:center;\">Truncated to <a href=\"https://jupysql.ploomber.io/en/latest/api/configuration.html#displaylimit\">displaylimit</a> of 10.</span>"
      ],
      "text/plain": [
       "+--------+\n",
       "| weight |\n",
       "+--------+\n",
       "| 10.46  |\n",
       "|  8.06  |\n",
       "| 10.88  |\n",
       "|  9.4   |\n",
       "|  9.27  |\n",
       "|  8.84  |\n",
       "|  8.44  |\n",
       "|  8.83  |\n",
       "|  9.54  |\n",
       "|  9.47  |\n",
       "+--------+\n",
       "Truncated to displaylimit of 10."
      ]
     },
     "execution_count": 61,
     "metadata": {},
     "output_type": "execute_result"
    }
   ],
   "source": [
    "result"
   ]
  },
  {
   "cell_type": "code",
   "execution_count": 62,
   "metadata": {},
   "outputs": [
    {
     "data": {
      "text/plain": [
       "sql.run.resultset.ResultSet"
      ]
     },
     "execution_count": 62,
     "metadata": {},
     "output_type": "execute_result"
    }
   ],
   "source": [
    "type(result)"
   ]
  },
  {
   "cell_type": "code",
   "execution_count": 63,
   "metadata": {},
   "outputs": [
    {
     "data": {
      "text/plain": [
       "pandas.core.frame.DataFrame"
      ]
     },
     "execution_count": 63,
     "metadata": {},
     "output_type": "execute_result"
    }
   ],
   "source": [
    "df = result.DataFrame()\n",
    "type(df)"
   ]
  },
  {
   "cell_type": "code",
   "execution_count": 65,
   "metadata": {},
   "outputs": [
    {
     "data": {
      "text/html": [
       "<div>\n",
       "<style scoped>\n",
       "    .dataframe tbody tr th:only-of-type {\n",
       "        vertical-align: middle;\n",
       "    }\n",
       "\n",
       "    .dataframe tbody tr th {\n",
       "        vertical-align: top;\n",
       "    }\n",
       "\n",
       "    .dataframe thead th {\n",
       "        text-align: right;\n",
       "    }\n",
       "</style>\n",
       "<table border=\"1\" class=\"dataframe\">\n",
       "  <thead>\n",
       "    <tr style=\"text-align: right;\">\n",
       "      <th></th>\n",
       "      <th>weight</th>\n",
       "    </tr>\n",
       "  </thead>\n",
       "  <tbody>\n",
       "    <tr>\n",
       "      <th>0</th>\n",
       "      <td>10.46</td>\n",
       "    </tr>\n",
       "    <tr>\n",
       "      <th>1</th>\n",
       "      <td>8.06</td>\n",
       "    </tr>\n",
       "    <tr>\n",
       "      <th>2</th>\n",
       "      <td>10.88</td>\n",
       "    </tr>\n",
       "    <tr>\n",
       "      <th>3</th>\n",
       "      <td>9.40</td>\n",
       "    </tr>\n",
       "    <tr>\n",
       "      <th>4</th>\n",
       "      <td>9.27</td>\n",
       "    </tr>\n",
       "    <tr>\n",
       "      <th>5</th>\n",
       "      <td>8.84</td>\n",
       "    </tr>\n",
       "    <tr>\n",
       "      <th>6</th>\n",
       "      <td>8.44</td>\n",
       "    </tr>\n",
       "    <tr>\n",
       "      <th>7</th>\n",
       "      <td>8.83</td>\n",
       "    </tr>\n",
       "    <tr>\n",
       "      <th>8</th>\n",
       "      <td>9.54</td>\n",
       "    </tr>\n",
       "    <tr>\n",
       "      <th>9</th>\n",
       "      <td>9.47</td>\n",
       "    </tr>\n",
       "    <tr>\n",
       "      <th>10</th>\n",
       "      <td>10.12</td>\n",
       "    </tr>\n",
       "    <tr>\n",
       "      <th>11</th>\n",
       "      <td>9.20</td>\n",
       "    </tr>\n",
       "    <tr>\n",
       "      <th>12</th>\n",
       "      <td>9.19</td>\n",
       "    </tr>\n",
       "    <tr>\n",
       "      <th>13</th>\n",
       "      <td>7.49</td>\n",
       "    </tr>\n",
       "    <tr>\n",
       "      <th>14</th>\n",
       "      <td>10.47</td>\n",
       "    </tr>\n",
       "    <tr>\n",
       "      <th>15</th>\n",
       "      <td>9.72</td>\n",
       "    </tr>\n",
       "    <tr>\n",
       "      <th>16</th>\n",
       "      <td>7.18</td>\n",
       "    </tr>\n",
       "    <tr>\n",
       "      <th>17</th>\n",
       "      <td>9.44</td>\n",
       "    </tr>\n",
       "    <tr>\n",
       "      <th>18</th>\n",
       "      <td>10.10</td>\n",
       "    </tr>\n",
       "    <tr>\n",
       "      <th>19</th>\n",
       "      <td>8.12</td>\n",
       "    </tr>\n",
       "    <tr>\n",
       "      <th>20</th>\n",
       "      <td>8.67</td>\n",
       "    </tr>\n",
       "    <tr>\n",
       "      <th>21</th>\n",
       "      <td>10.01</td>\n",
       "    </tr>\n",
       "    <tr>\n",
       "      <th>22</th>\n",
       "      <td>8.86</td>\n",
       "    </tr>\n",
       "    <tr>\n",
       "      <th>23</th>\n",
       "      <td>10.09</td>\n",
       "    </tr>\n",
       "    <tr>\n",
       "      <th>24</th>\n",
       "      <td>10.76</td>\n",
       "    </tr>\n",
       "    <tr>\n",
       "      <th>25</th>\n",
       "      <td>9.58</td>\n",
       "    </tr>\n",
       "    <tr>\n",
       "      <th>26</th>\n",
       "      <td>8.84</td>\n",
       "    </tr>\n",
       "    <tr>\n",
       "      <th>27</th>\n",
       "      <td>12.00</td>\n",
       "    </tr>\n",
       "    <tr>\n",
       "      <th>28</th>\n",
       "      <td>9.92</td>\n",
       "    </tr>\n",
       "    <tr>\n",
       "      <th>29</th>\n",
       "      <td>8.88</td>\n",
       "    </tr>\n",
       "    <tr>\n",
       "      <th>30</th>\n",
       "      <td>7.81</td>\n",
       "    </tr>\n",
       "    <tr>\n",
       "      <th>31</th>\n",
       "      <td>9.37</td>\n",
       "    </tr>\n",
       "    <tr>\n",
       "      <th>32</th>\n",
       "      <td>9.92</td>\n",
       "    </tr>\n",
       "    <tr>\n",
       "      <th>33</th>\n",
       "      <td>9.73</td>\n",
       "    </tr>\n",
       "    <tr>\n",
       "      <th>34</th>\n",
       "      <td>9.04</td>\n",
       "    </tr>\n",
       "    <tr>\n",
       "      <th>35</th>\n",
       "      <td>10.35</td>\n",
       "    </tr>\n",
       "    <tr>\n",
       "      <th>36</th>\n",
       "      <td>9.89</td>\n",
       "    </tr>\n",
       "    <tr>\n",
       "      <th>37</th>\n",
       "      <td>11.37</td>\n",
       "    </tr>\n",
       "    <tr>\n",
       "      <th>38</th>\n",
       "      <td>8.72</td>\n",
       "    </tr>\n",
       "    <tr>\n",
       "      <th>39</th>\n",
       "      <td>9.30</td>\n",
       "    </tr>\n",
       "  </tbody>\n",
       "</table>\n",
       "</div>"
      ],
      "text/plain": [
       "    weight\n",
       "0    10.46\n",
       "1     8.06\n",
       "2    10.88\n",
       "3     9.40\n",
       "4     9.27\n",
       "5     8.84\n",
       "6     8.44\n",
       "7     8.83\n",
       "8     9.54\n",
       "9     9.47\n",
       "10   10.12\n",
       "11    9.20\n",
       "12    9.19\n",
       "13    7.49\n",
       "14   10.47\n",
       "15    9.72\n",
       "16    7.18\n",
       "17    9.44\n",
       "18   10.10\n",
       "19    8.12\n",
       "20    8.67\n",
       "21   10.01\n",
       "22    8.86\n",
       "23   10.09\n",
       "24   10.76\n",
       "25    9.58\n",
       "26    8.84\n",
       "27   12.00\n",
       "28    9.92\n",
       "29    8.88\n",
       "30    7.81\n",
       "31    9.37\n",
       "32    9.92\n",
       "33    9.73\n",
       "34    9.04\n",
       "35   10.35\n",
       "36    9.89\n",
       "37   11.37\n",
       "38    8.72\n",
       "39    9.30"
      ]
     },
     "execution_count": 65,
     "metadata": {},
     "output_type": "execute_result"
    }
   ],
   "source": [
    "df"
   ]
  },
  {
   "cell_type": "code",
   "execution_count": 67,
   "metadata": {},
   "outputs": [
    {
     "data": {
      "text/plain": [
       "<Axes: ylabel='Frequency'>"
      ]
     },
     "execution_count": 67,
     "metadata": {},
     "output_type": "execute_result"
    },
    {
     "data": {
      "image/png": "[encoded data removed]",
      "text/plain": [
       "<Figure size 1000x400 with 1 Axes>"
      ]
     },
     "metadata": {},
     "output_type": "display_data"
    }
   ],
   "source": [
    "df.plot(kind=\"hist\", bins=8)"
   ]
  },
  {
   "cell_type": "markdown",
   "metadata": {},
   "source": [
    "Great work! You're hired."
   ]
  }
 ],
 "metadata": {
  "kernelspec": {
   "display_name": "Python 3 (ipykernel)",
   "language": "python",
   "name": "python3"
  },
  "language_info": {
   "codemirror_mode": {
    "name": "ipython",
    "version": 3
   },
   "file_extension": ".py",
   "mimetype": "text/x-python",
   "name": "python",
   "nbconvert_exporter": "python",
   "pygments_lexer": "ipython3",
   "version": "3.12.3"
  }
 },
 "nbformat": 4,
 "nbformat_minor": 4
}
